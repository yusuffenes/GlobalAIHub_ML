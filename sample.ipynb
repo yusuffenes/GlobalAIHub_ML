{
 "cells": [
  {
   "metadata": {},
   "cell_type": "markdown",
   "source": "Gerekli Importları ekliyoruz.",
   "id": "d946eeeaa07b468f"
  },
  {
   "metadata": {
    "ExecuteTime": {
     "end_time": "2024-05-03T16:12:26.978712Z",
     "start_time": "2024-05-03T16:12:26.974816Z"
    }
   },
   "cell_type": "code",
   "source": [
    "import numpy as np\n",
    "import pandas as pd\n",
    "import matplotlib.pyplot as plt\n",
    "import seaborn as sns\n",
    "from sklearn.model_selection import train_test_split, cross_val_score,RandomizedSearchCV\n",
    "from sklearn.preprocessing import OneHotEncoder\n",
    "from sklearn.ensemble import RandomForestClassifier,GradientBoostingClassifier\n",
    "from sklearn.metrics import confusion_matrix,accuracy_score,classification_report\n",
    "from sklearn.linear_model import RidgeClassifier,LogisticRegression\n",
    "import xgboost as xgb\n",
    "import warnings\n",
    "warnings.filterwarnings('ignore')\n",
    "\n",
    "\n"
   ],
   "id": "fbc121e30a2defb3",
   "outputs": [],
   "execution_count": 68
  },
  {
   "metadata": {},
   "cell_type": "markdown",
   "source": "Dataset ekliyoruz. Bu verisetinde yapmaya çalıştığım şey verilen diğer bilgilere göre kullanıcının rezarvazyonu tamamlayacakmı  yoksa tamamlamadan çıkacakmı diye tahmin etmeye çalışacağım.",
   "id": "a424538c17ef2a17"
  },
  {
   "metadata": {
    "ExecuteTime": {
     "end_time": "2024-05-03T15:14:35.225449Z",
     "start_time": "2024-05-03T15:14:35.160537Z"
    }
   },
   "cell_type": "code",
   "source": [
    "df=pd.read_csv('data/customer_booking.csv',encoding='latin-1')\n",
    "df.head(10)"
   ],
   "id": "713b7f8efc98a422",
   "outputs": [
    {
     "data": {
      "text/plain": [
       "   num_passengers sales_channel  trip_type  purchase_lead  length_of_stay  \\\n",
       "0               2      Internet  RoundTrip            262              19   \n",
       "1               1      Internet  RoundTrip            112              20   \n",
       "2               2      Internet  RoundTrip            243              22   \n",
       "3               1      Internet  RoundTrip             96              31   \n",
       "4               2      Internet  RoundTrip             68              22   \n",
       "5               1      Internet  RoundTrip              3              48   \n",
       "6               3      Internet  RoundTrip            201              33   \n",
       "7               2      Internet  RoundTrip            238              19   \n",
       "8               1      Internet  RoundTrip             80              22   \n",
       "9               1        Mobile  RoundTrip            378              30   \n",
       "\n",
       "   flight_hour flight_day   route booking_origin  wants_extra_baggage  \\\n",
       "0            7        Sat  AKLDEL    New Zealand                    1   \n",
       "1            3        Sat  AKLDEL    New Zealand                    0   \n",
       "2           17        Wed  AKLDEL          India                    1   \n",
       "3            4        Sat  AKLDEL    New Zealand                    0   \n",
       "4           15        Wed  AKLDEL          India                    1   \n",
       "5           20        Thu  AKLDEL    New Zealand                    1   \n",
       "6            6        Thu  AKLDEL    New Zealand                    1   \n",
       "7           14        Mon  AKLDEL          India                    1   \n",
       "8            4        Mon  AKLDEL    New Zealand                    0   \n",
       "9           12        Sun  AKLDEL          India                    0   \n",
       "\n",
       "   wants_preferred_seat  wants_in_flight_meals  flight_duration  \\\n",
       "0                     0                      0             5.52   \n",
       "1                     0                      0             5.52   \n",
       "2                     1                      0             5.52   \n",
       "3                     0                      1             5.52   \n",
       "4                     0                      1             5.52   \n",
       "5                     0                      1             5.52   \n",
       "6                     0                      1             5.52   \n",
       "7                     0                      1             5.52   \n",
       "8                     0                      1             5.52   \n",
       "9                     0                      0             5.52   \n",
       "\n",
       "   booking_complete  \n",
       "0                 0  \n",
       "1                 0  \n",
       "2                 0  \n",
       "3                 0  \n",
       "4                 0  \n",
       "5                 0  \n",
       "6                 0  \n",
       "7                 0  \n",
       "8                 0  \n",
       "9                 0  "
      ],
      "text/html": [
       "<div>\n",
       "<style scoped>\n",
       "    .dataframe tbody tr th:only-of-type {\n",
       "        vertical-align: middle;\n",
       "    }\n",
       "\n",
       "    .dataframe tbody tr th {\n",
       "        vertical-align: top;\n",
       "    }\n",
       "\n",
       "    .dataframe thead th {\n",
       "        text-align: right;\n",
       "    }\n",
       "</style>\n",
       "<table border=\"1\" class=\"dataframe\">\n",
       "  <thead>\n",
       "    <tr style=\"text-align: right;\">\n",
       "      <th></th>\n",
       "      <th>num_passengers</th>\n",
       "      <th>sales_channel</th>\n",
       "      <th>trip_type</th>\n",
       "      <th>purchase_lead</th>\n",
       "      <th>length_of_stay</th>\n",
       "      <th>flight_hour</th>\n",
       "      <th>flight_day</th>\n",
       "      <th>route</th>\n",
       "      <th>booking_origin</th>\n",
       "      <th>wants_extra_baggage</th>\n",
       "      <th>wants_preferred_seat</th>\n",
       "      <th>wants_in_flight_meals</th>\n",
       "      <th>flight_duration</th>\n",
       "      <th>booking_complete</th>\n",
       "    </tr>\n",
       "  </thead>\n",
       "  <tbody>\n",
       "    <tr>\n",
       "      <th>0</th>\n",
       "      <td>2</td>\n",
       "      <td>Internet</td>\n",
       "      <td>RoundTrip</td>\n",
       "      <td>262</td>\n",
       "      <td>19</td>\n",
       "      <td>7</td>\n",
       "      <td>Sat</td>\n",
       "      <td>AKLDEL</td>\n",
       "      <td>New Zealand</td>\n",
       "      <td>1</td>\n",
       "      <td>0</td>\n",
       "      <td>0</td>\n",
       "      <td>5.52</td>\n",
       "      <td>0</td>\n",
       "    </tr>\n",
       "    <tr>\n",
       "      <th>1</th>\n",
       "      <td>1</td>\n",
       "      <td>Internet</td>\n",
       "      <td>RoundTrip</td>\n",
       "      <td>112</td>\n",
       "      <td>20</td>\n",
       "      <td>3</td>\n",
       "      <td>Sat</td>\n",
       "      <td>AKLDEL</td>\n",
       "      <td>New Zealand</td>\n",
       "      <td>0</td>\n",
       "      <td>0</td>\n",
       "      <td>0</td>\n",
       "      <td>5.52</td>\n",
       "      <td>0</td>\n",
       "    </tr>\n",
       "    <tr>\n",
       "      <th>2</th>\n",
       "      <td>2</td>\n",
       "      <td>Internet</td>\n",
       "      <td>RoundTrip</td>\n",
       "      <td>243</td>\n",
       "      <td>22</td>\n",
       "      <td>17</td>\n",
       "      <td>Wed</td>\n",
       "      <td>AKLDEL</td>\n",
       "      <td>India</td>\n",
       "      <td>1</td>\n",
       "      <td>1</td>\n",
       "      <td>0</td>\n",
       "      <td>5.52</td>\n",
       "      <td>0</td>\n",
       "    </tr>\n",
       "    <tr>\n",
       "      <th>3</th>\n",
       "      <td>1</td>\n",
       "      <td>Internet</td>\n",
       "      <td>RoundTrip</td>\n",
       "      <td>96</td>\n",
       "      <td>31</td>\n",
       "      <td>4</td>\n",
       "      <td>Sat</td>\n",
       "      <td>AKLDEL</td>\n",
       "      <td>New Zealand</td>\n",
       "      <td>0</td>\n",
       "      <td>0</td>\n",
       "      <td>1</td>\n",
       "      <td>5.52</td>\n",
       "      <td>0</td>\n",
       "    </tr>\n",
       "    <tr>\n",
       "      <th>4</th>\n",
       "      <td>2</td>\n",
       "      <td>Internet</td>\n",
       "      <td>RoundTrip</td>\n",
       "      <td>68</td>\n",
       "      <td>22</td>\n",
       "      <td>15</td>\n",
       "      <td>Wed</td>\n",
       "      <td>AKLDEL</td>\n",
       "      <td>India</td>\n",
       "      <td>1</td>\n",
       "      <td>0</td>\n",
       "      <td>1</td>\n",
       "      <td>5.52</td>\n",
       "      <td>0</td>\n",
       "    </tr>\n",
       "    <tr>\n",
       "      <th>5</th>\n",
       "      <td>1</td>\n",
       "      <td>Internet</td>\n",
       "      <td>RoundTrip</td>\n",
       "      <td>3</td>\n",
       "      <td>48</td>\n",
       "      <td>20</td>\n",
       "      <td>Thu</td>\n",
       "      <td>AKLDEL</td>\n",
       "      <td>New Zealand</td>\n",
       "      <td>1</td>\n",
       "      <td>0</td>\n",
       "      <td>1</td>\n",
       "      <td>5.52</td>\n",
       "      <td>0</td>\n",
       "    </tr>\n",
       "    <tr>\n",
       "      <th>6</th>\n",
       "      <td>3</td>\n",
       "      <td>Internet</td>\n",
       "      <td>RoundTrip</td>\n",
       "      <td>201</td>\n",
       "      <td>33</td>\n",
       "      <td>6</td>\n",
       "      <td>Thu</td>\n",
       "      <td>AKLDEL</td>\n",
       "      <td>New Zealand</td>\n",
       "      <td>1</td>\n",
       "      <td>0</td>\n",
       "      <td>1</td>\n",
       "      <td>5.52</td>\n",
       "      <td>0</td>\n",
       "    </tr>\n",
       "    <tr>\n",
       "      <th>7</th>\n",
       "      <td>2</td>\n",
       "      <td>Internet</td>\n",
       "      <td>RoundTrip</td>\n",
       "      <td>238</td>\n",
       "      <td>19</td>\n",
       "      <td>14</td>\n",
       "      <td>Mon</td>\n",
       "      <td>AKLDEL</td>\n",
       "      <td>India</td>\n",
       "      <td>1</td>\n",
       "      <td>0</td>\n",
       "      <td>1</td>\n",
       "      <td>5.52</td>\n",
       "      <td>0</td>\n",
       "    </tr>\n",
       "    <tr>\n",
       "      <th>8</th>\n",
       "      <td>1</td>\n",
       "      <td>Internet</td>\n",
       "      <td>RoundTrip</td>\n",
       "      <td>80</td>\n",
       "      <td>22</td>\n",
       "      <td>4</td>\n",
       "      <td>Mon</td>\n",
       "      <td>AKLDEL</td>\n",
       "      <td>New Zealand</td>\n",
       "      <td>0</td>\n",
       "      <td>0</td>\n",
       "      <td>1</td>\n",
       "      <td>5.52</td>\n",
       "      <td>0</td>\n",
       "    </tr>\n",
       "    <tr>\n",
       "      <th>9</th>\n",
       "      <td>1</td>\n",
       "      <td>Mobile</td>\n",
       "      <td>RoundTrip</td>\n",
       "      <td>378</td>\n",
       "      <td>30</td>\n",
       "      <td>12</td>\n",
       "      <td>Sun</td>\n",
       "      <td>AKLDEL</td>\n",
       "      <td>India</td>\n",
       "      <td>0</td>\n",
       "      <td>0</td>\n",
       "      <td>0</td>\n",
       "      <td>5.52</td>\n",
       "      <td>0</td>\n",
       "    </tr>\n",
       "  </tbody>\n",
       "</table>\n",
       "</div>"
      ]
     },
     "execution_count": 16,
     "metadata": {},
     "output_type": "execute_result"
    }
   ],
   "execution_count": 16
  },
  {
   "metadata": {},
   "cell_type": "markdown",
   "source": "Görüldüğü gibi hiçbir null veri bulunlunmuyor o yüzden bir ekelme yada çıakrtma işlmei yapmamıza gerek kalmıyor ",
   "id": "117c645be7d762b3"
  },
  {
   "metadata": {
    "ExecuteTime": {
     "end_time": "2024-05-03T15:14:36.432253Z",
     "start_time": "2024-05-03T15:14:36.418244Z"
    }
   },
   "cell_type": "code",
   "source": "df.info()",
   "id": "a969f00f0de8e677",
   "outputs": [
    {
     "name": "stdout",
     "output_type": "stream",
     "text": [
      "<class 'pandas.core.frame.DataFrame'>\n",
      "RangeIndex: 50000 entries, 0 to 49999\n",
      "Data columns (total 14 columns):\n",
      " #   Column                 Non-Null Count  Dtype  \n",
      "---  ------                 --------------  -----  \n",
      " 0   num_passengers         50000 non-null  int64  \n",
      " 1   sales_channel          50000 non-null  object \n",
      " 2   trip_type              50000 non-null  object \n",
      " 3   purchase_lead          50000 non-null  int64  \n",
      " 4   length_of_stay         50000 non-null  int64  \n",
      " 5   flight_hour            50000 non-null  int64  \n",
      " 6   flight_day             50000 non-null  object \n",
      " 7   route                  50000 non-null  object \n",
      " 8   booking_origin         50000 non-null  object \n",
      " 9   wants_extra_baggage    50000 non-null  int64  \n",
      " 10  wants_preferred_seat   50000 non-null  int64  \n",
      " 11  wants_in_flight_meals  50000 non-null  int64  \n",
      " 12  flight_duration        50000 non-null  float64\n",
      " 13  booking_complete       50000 non-null  int64  \n",
      "dtypes: float64(1), int64(8), object(5)\n",
      "memory usage: 5.3+ MB\n"
     ]
    }
   ],
   "execution_count": 17
  },
  {
   "metadata": {},
   "cell_type": "markdown",
   "source": "Rota ve Rezervasyon ülkesi sütünların çok fazla benzersiz veri var ve bu ML için kafa karıştırıcı olabilir bu nedenle bunların en büyük 15 tanesi alıyoeuz ve diğerleini other olarak dolduruyoruz.",
   "id": "8ae371f5665e4db9"
  },
  {
   "metadata": {
    "ExecuteTime": {
     "end_time": "2024-05-03T15:15:10.844180Z",
     "start_time": "2024-05-03T15:15:10.838373Z"
    }
   },
   "cell_type": "code",
   "source": "len(df['route'].unique())",
   "id": "53afd1c1fa3ea6b8",
   "outputs": [
    {
     "data": {
      "text/plain": [
       "799"
      ]
     },
     "execution_count": 21,
     "metadata": {},
     "output_type": "execute_result"
    }
   ],
   "execution_count": 21
  },
  {
   "metadata": {
    "ExecuteTime": {
     "end_time": "2024-05-03T15:17:19.581064Z",
     "start_time": "2024-05-03T15:17:19.477888Z"
    }
   },
   "cell_type": "code",
   "source": [
    "country_list = df['booking_origin'].value_counts().nlargest(15).index\n",
    "df['booking_origin'] = df['booking_origin'].apply(lambda x: x if x in country_list else 'Other')\n",
    "route_list = df['route'].value_counts().nlargest(10)\n",
    "df['route'] = df['route'].apply(lambda x: x if x in route_list else 'Other')"
   ],
   "id": "b315e142d3e5e2d2",
   "outputs": [],
   "execution_count": 22
  },
  {
   "metadata": {},
   "cell_type": "markdown",
   "source": "şimdi verileri dummie etme zamanı bu yaptığımız ile ML için uygun hale getireceğiz veri setimizi. İleride bir tahmin edilmek istenirse daha kolay erişebilmek adına burada OneHotEncoder kullanacağım.",
   "id": "69bdaa76c8026914"
  },
  {
   "metadata": {},
   "cell_type": "markdown",
   "source": [
    "df['route'].unique().__len__()\n",
    "\n",
    "\n",
    "OUTPUT : 799 Görüldüğü gibi çok fazla benzersiz değer var bunlara tahmin etmek istediğim zaman daha kolay ulaşabilemek adına OneHotEncoding Kullanacağım."
   ],
   "id": "c80e049024d96f0a"
  },
  {
   "metadata": {
    "ExecuteTime": {
     "end_time": "2024-05-03T15:20:23.930203Z",
     "start_time": "2024-05-03T15:20:23.890520Z"
    }
   },
   "cell_type": "code",
   "source": [
    "ohe=OneHotEncoder()\n",
    "ohed=ohe.fit_transform(df[['sales_channel','trip_type','flight_day','route','booking_origin']]).toarray()"
   ],
   "id": "d7fc18f20c0f219d",
   "outputs": [],
   "execution_count": 23
  },
  {
   "metadata": {
    "ExecuteTime": {
     "end_time": "2024-05-03T15:20:26.077336Z",
     "start_time": "2024-05-03T15:20:26.072366Z"
    }
   },
   "cell_type": "code",
   "source": "ohe.get_feature_names_out()",
   "id": "94034a08c2eba6bd",
   "outputs": [
    {
     "data": {
      "text/plain": [
       "array(['sales_channel_Internet', 'sales_channel_Mobile',\n",
       "       'trip_type_CircleTrip', 'trip_type_OneWay', 'trip_type_RoundTrip',\n",
       "       'flight_day_Fri', 'flight_day_Mon', 'flight_day_Sat',\n",
       "       'flight_day_Sun', 'flight_day_Thu', 'flight_day_Tue',\n",
       "       'flight_day_Wed', 'route_AKLKUL', 'route_DMKKIX', 'route_DMKOOL',\n",
       "       'route_DMKPER', 'route_DPSICN', 'route_ICNSIN', 'route_ICNSYD',\n",
       "       'route_MELPEN', 'route_MELSGN', 'route_Other', 'route_PENTPE',\n",
       "       'booking_origin_Australia', 'booking_origin_China',\n",
       "       'booking_origin_Hong Kong', 'booking_origin_India',\n",
       "       'booking_origin_Indonesia', 'booking_origin_Japan',\n",
       "       'booking_origin_Macau', 'booking_origin_Malaysia',\n",
       "       'booking_origin_New Zealand', 'booking_origin_Other',\n",
       "       'booking_origin_Singapore', 'booking_origin_South Korea',\n",
       "       'booking_origin_Taiwan', 'booking_origin_Thailand',\n",
       "       'booking_origin_United States', 'booking_origin_Vietnam'],\n",
       "      dtype=object)"
      ]
     },
     "execution_count": 24,
     "metadata": {},
     "output_type": "execute_result"
    }
   ],
   "execution_count": 24
  },
  {
   "metadata": {},
   "cell_type": "markdown",
   "source": "Şimdi bunları veri setine eklemek için bir dataframe ekleyeceğim",
   "id": "708ea8684f16a5b0"
  },
  {
   "metadata": {
    "ExecuteTime": {
     "end_time": "2024-05-03T15:20:44.262693Z",
     "start_time": "2024-05-03T15:20:44.246165Z"
    }
   },
   "cell_type": "code",
   "source": [
    "ohed = pd.DataFrame(ohed,columns=ohe.get_feature_names_out())\n",
    "ohed.head()"
   ],
   "id": "d3a995339a16687a",
   "outputs": [
    {
     "data": {
      "text/plain": [
       "   sales_channel_Internet  sales_channel_Mobile  trip_type_CircleTrip  \\\n",
       "0                     1.0                   0.0                   0.0   \n",
       "1                     1.0                   0.0                   0.0   \n",
       "2                     1.0                   0.0                   0.0   \n",
       "3                     1.0                   0.0                   0.0   \n",
       "4                     1.0                   0.0                   0.0   \n",
       "\n",
       "   trip_type_OneWay  trip_type_RoundTrip  flight_day_Fri  flight_day_Mon  \\\n",
       "0               0.0                  1.0             0.0             0.0   \n",
       "1               0.0                  1.0             0.0             0.0   \n",
       "2               0.0                  1.0             0.0             0.0   \n",
       "3               0.0                  1.0             0.0             0.0   \n",
       "4               0.0                  1.0             0.0             0.0   \n",
       "\n",
       "   flight_day_Sat  flight_day_Sun  flight_day_Thu  ...  booking_origin_Macau  \\\n",
       "0             1.0             0.0             0.0  ...                   0.0   \n",
       "1             1.0             0.0             0.0  ...                   0.0   \n",
       "2             0.0             0.0             0.0  ...                   0.0   \n",
       "3             1.0             0.0             0.0  ...                   0.0   \n",
       "4             0.0             0.0             0.0  ...                   0.0   \n",
       "\n",
       "   booking_origin_Malaysia  booking_origin_New Zealand  booking_origin_Other  \\\n",
       "0                      0.0                         1.0                   0.0   \n",
       "1                      0.0                         1.0                   0.0   \n",
       "2                      0.0                         0.0                   0.0   \n",
       "3                      0.0                         1.0                   0.0   \n",
       "4                      0.0                         0.0                   0.0   \n",
       "\n",
       "   booking_origin_Singapore  booking_origin_South Korea  \\\n",
       "0                       0.0                         0.0   \n",
       "1                       0.0                         0.0   \n",
       "2                       0.0                         0.0   \n",
       "3                       0.0                         0.0   \n",
       "4                       0.0                         0.0   \n",
       "\n",
       "   booking_origin_Taiwan  booking_origin_Thailand  \\\n",
       "0                    0.0                      0.0   \n",
       "1                    0.0                      0.0   \n",
       "2                    0.0                      0.0   \n",
       "3                    0.0                      0.0   \n",
       "4                    0.0                      0.0   \n",
       "\n",
       "   booking_origin_United States  booking_origin_Vietnam  \n",
       "0                           0.0                     0.0  \n",
       "1                           0.0                     0.0  \n",
       "2                           0.0                     0.0  \n",
       "3                           0.0                     0.0  \n",
       "4                           0.0                     0.0  \n",
       "\n",
       "[5 rows x 39 columns]"
      ],
      "text/html": [
       "<div>\n",
       "<style scoped>\n",
       "    .dataframe tbody tr th:only-of-type {\n",
       "        vertical-align: middle;\n",
       "    }\n",
       "\n",
       "    .dataframe tbody tr th {\n",
       "        vertical-align: top;\n",
       "    }\n",
       "\n",
       "    .dataframe thead th {\n",
       "        text-align: right;\n",
       "    }\n",
       "</style>\n",
       "<table border=\"1\" class=\"dataframe\">\n",
       "  <thead>\n",
       "    <tr style=\"text-align: right;\">\n",
       "      <th></th>\n",
       "      <th>sales_channel_Internet</th>\n",
       "      <th>sales_channel_Mobile</th>\n",
       "      <th>trip_type_CircleTrip</th>\n",
       "      <th>trip_type_OneWay</th>\n",
       "      <th>trip_type_RoundTrip</th>\n",
       "      <th>flight_day_Fri</th>\n",
       "      <th>flight_day_Mon</th>\n",
       "      <th>flight_day_Sat</th>\n",
       "      <th>flight_day_Sun</th>\n",
       "      <th>flight_day_Thu</th>\n",
       "      <th>...</th>\n",
       "      <th>booking_origin_Macau</th>\n",
       "      <th>booking_origin_Malaysia</th>\n",
       "      <th>booking_origin_New Zealand</th>\n",
       "      <th>booking_origin_Other</th>\n",
       "      <th>booking_origin_Singapore</th>\n",
       "      <th>booking_origin_South Korea</th>\n",
       "      <th>booking_origin_Taiwan</th>\n",
       "      <th>booking_origin_Thailand</th>\n",
       "      <th>booking_origin_United States</th>\n",
       "      <th>booking_origin_Vietnam</th>\n",
       "    </tr>\n",
       "  </thead>\n",
       "  <tbody>\n",
       "    <tr>\n",
       "      <th>0</th>\n",
       "      <td>1.0</td>\n",
       "      <td>0.0</td>\n",
       "      <td>0.0</td>\n",
       "      <td>0.0</td>\n",
       "      <td>1.0</td>\n",
       "      <td>0.0</td>\n",
       "      <td>0.0</td>\n",
       "      <td>1.0</td>\n",
       "      <td>0.0</td>\n",
       "      <td>0.0</td>\n",
       "      <td>...</td>\n",
       "      <td>0.0</td>\n",
       "      <td>0.0</td>\n",
       "      <td>1.0</td>\n",
       "      <td>0.0</td>\n",
       "      <td>0.0</td>\n",
       "      <td>0.0</td>\n",
       "      <td>0.0</td>\n",
       "      <td>0.0</td>\n",
       "      <td>0.0</td>\n",
       "      <td>0.0</td>\n",
       "    </tr>\n",
       "    <tr>\n",
       "      <th>1</th>\n",
       "      <td>1.0</td>\n",
       "      <td>0.0</td>\n",
       "      <td>0.0</td>\n",
       "      <td>0.0</td>\n",
       "      <td>1.0</td>\n",
       "      <td>0.0</td>\n",
       "      <td>0.0</td>\n",
       "      <td>1.0</td>\n",
       "      <td>0.0</td>\n",
       "      <td>0.0</td>\n",
       "      <td>...</td>\n",
       "      <td>0.0</td>\n",
       "      <td>0.0</td>\n",
       "      <td>1.0</td>\n",
       "      <td>0.0</td>\n",
       "      <td>0.0</td>\n",
       "      <td>0.0</td>\n",
       "      <td>0.0</td>\n",
       "      <td>0.0</td>\n",
       "      <td>0.0</td>\n",
       "      <td>0.0</td>\n",
       "    </tr>\n",
       "    <tr>\n",
       "      <th>2</th>\n",
       "      <td>1.0</td>\n",
       "      <td>0.0</td>\n",
       "      <td>0.0</td>\n",
       "      <td>0.0</td>\n",
       "      <td>1.0</td>\n",
       "      <td>0.0</td>\n",
       "      <td>0.0</td>\n",
       "      <td>0.0</td>\n",
       "      <td>0.0</td>\n",
       "      <td>0.0</td>\n",
       "      <td>...</td>\n",
       "      <td>0.0</td>\n",
       "      <td>0.0</td>\n",
       "      <td>0.0</td>\n",
       "      <td>0.0</td>\n",
       "      <td>0.0</td>\n",
       "      <td>0.0</td>\n",
       "      <td>0.0</td>\n",
       "      <td>0.0</td>\n",
       "      <td>0.0</td>\n",
       "      <td>0.0</td>\n",
       "    </tr>\n",
       "    <tr>\n",
       "      <th>3</th>\n",
       "      <td>1.0</td>\n",
       "      <td>0.0</td>\n",
       "      <td>0.0</td>\n",
       "      <td>0.0</td>\n",
       "      <td>1.0</td>\n",
       "      <td>0.0</td>\n",
       "      <td>0.0</td>\n",
       "      <td>1.0</td>\n",
       "      <td>0.0</td>\n",
       "      <td>0.0</td>\n",
       "      <td>...</td>\n",
       "      <td>0.0</td>\n",
       "      <td>0.0</td>\n",
       "      <td>1.0</td>\n",
       "      <td>0.0</td>\n",
       "      <td>0.0</td>\n",
       "      <td>0.0</td>\n",
       "      <td>0.0</td>\n",
       "      <td>0.0</td>\n",
       "      <td>0.0</td>\n",
       "      <td>0.0</td>\n",
       "    </tr>\n",
       "    <tr>\n",
       "      <th>4</th>\n",
       "      <td>1.0</td>\n",
       "      <td>0.0</td>\n",
       "      <td>0.0</td>\n",
       "      <td>0.0</td>\n",
       "      <td>1.0</td>\n",
       "      <td>0.0</td>\n",
       "      <td>0.0</td>\n",
       "      <td>0.0</td>\n",
       "      <td>0.0</td>\n",
       "      <td>0.0</td>\n",
       "      <td>...</td>\n",
       "      <td>0.0</td>\n",
       "      <td>0.0</td>\n",
       "      <td>0.0</td>\n",
       "      <td>0.0</td>\n",
       "      <td>0.0</td>\n",
       "      <td>0.0</td>\n",
       "      <td>0.0</td>\n",
       "      <td>0.0</td>\n",
       "      <td>0.0</td>\n",
       "      <td>0.0</td>\n",
       "    </tr>\n",
       "  </tbody>\n",
       "</table>\n",
       "<p>5 rows × 39 columns</p>\n",
       "</div>"
      ]
     },
     "execution_count": 25,
     "metadata": {},
     "output_type": "execute_result"
    }
   ],
   "execution_count": 25
  },
  {
   "metadata": {},
   "cell_type": "markdown",
   "source": "Şimdi bunu bizim verisetimize ekelyeceğiz.",
   "id": "ff4290d774996c16"
  },
  {
   "metadata": {
    "ExecuteTime": {
     "end_time": "2024-05-03T15:20:52.449534Z",
     "start_time": "2024-05-03T15:20:52.445103Z"
    }
   },
   "cell_type": "code",
   "source": "df.drop(columns=['sales_channel','trip_type','flight_day','route','booking_origin'], inplace=True)",
   "id": "ebac98c6718fdd4b",
   "outputs": [],
   "execution_count": 26
  },
  {
   "metadata": {},
   "cell_type": "markdown",
   "source": "",
   "id": "5ebffff68caf9a9d"
  },
  {
   "metadata": {
    "ExecuteTime": {
     "end_time": "2024-05-03T15:20:54.741704Z",
     "start_time": "2024-05-03T15:20:54.718349Z"
    }
   },
   "cell_type": "code",
   "source": "df[ohed.columns]=ohed",
   "id": "f24694af2faf8afd",
   "outputs": [],
   "execution_count": 27
  },
  {
   "metadata": {},
   "cell_type": "markdown",
   "source": "Şu anda ML için uygun hale geldi  Artık test ve train oluşturabiliriz. 50000 veri olduğu için %80 yeterli diye düşünüyorum.\n",
   "id": "84e0d8eced57aa5d"
  },
  {
   "metadata": {
    "ExecuteTime": {
     "end_time": "2024-05-03T15:38:59.293719Z",
     "start_time": "2024-05-03T15:38:59.259431Z"
    }
   },
   "cell_type": "code",
   "source": [
    "y=df['booking_complete']\n",
    "x=df.drop('booking_complete', axis=1)\n",
    "x_train, x_test, y_train, y_test = train_test_split(x, y, train_size=0.80, random_state=43)"
   ],
   "id": "a0a18493e6aa9d1d",
   "outputs": [],
   "execution_count": 51
  },
  {
   "metadata": {},
   "cell_type": "markdown",
   "source": "Artık model oluşturabiliriz öncelikle RandomForestClassifier kullanacağım.",
   "id": "73b1daaeada026ec"
  },
  {
   "metadata": {
    "ExecuteTime": {
     "end_time": "2024-05-03T15:39:07.147079Z",
     "start_time": "2024-05-03T15:39:03.321587Z"
    }
   },
   "cell_type": "code",
   "source": [
    "rf=RandomForestClassifier()\n",
    "model = rf.fit(x_train, y_train)\n",
    "model.score(x_test, y_test)"
   ],
   "id": "189614975f14ed98",
   "outputs": [
    {
     "data": {
      "text/plain": [
       "0.8475"
      ]
     },
     "execution_count": 52,
     "metadata": {},
     "output_type": "execute_result"
    }
   ],
   "execution_count": 52
  },
  {
   "metadata": {
    "ExecuteTime": {
     "end_time": "2024-05-03T15:39:20.211875Z",
     "start_time": "2024-05-03T15:39:12.182474Z"
    }
   },
   "cell_type": "code",
   "source": [
    "rf=RandomForestClassifier(n_estimators=200)\n",
    "model = rf.fit(x_train, y_train)\n",
    "model.score(x_test, y_test)"
   ],
   "id": "9b0ce21fc4bbc6cf",
   "outputs": [
    {
     "data": {
      "text/plain": [
       "0.847"
      ]
     },
     "execution_count": 53,
     "metadata": {},
     "output_type": "execute_result"
    }
   ],
   "execution_count": 53
  },
  {
   "metadata": {
    "ExecuteTime": {
     "end_time": "2024-05-03T15:39:51.368607Z",
     "start_time": "2024-05-03T15:39:23.766704Z"
    }
   },
   "cell_type": "code",
   "source": [
    "cv = cross_val_score(model, x, y, cv=4)\n",
    "cv"
   ],
   "id": "37a84f229d8ab1bf",
   "outputs": [
    {
     "data": {
      "text/plain": [
       "array([0.84992, 0.78768, 0.298  , 0.7216 ])"
      ]
     },
     "execution_count": 54,
     "metadata": {},
     "output_type": "execute_result"
    }
   ],
   "execution_count": 54
  },
  {
   "metadata": {},
   "cell_type": "markdown",
   "source": "Şimdi karmaşıklık matrisini oluşturup değerlere bakalım",
   "id": "9580fc1560c18e87"
  },
  {
   "metadata": {
    "ExecuteTime": {
     "end_time": "2024-05-03T16:14:09.473888Z",
     "start_time": "2024-05-03T16:14:08.986781Z"
    }
   },
   "cell_type": "code",
   "source": [
    "y_pred = model.predict(x_test)\n",
    "cm = confusion_matrix(y_test, y_pred)\n",
    "accuracy = accuracy_score(y_test, y_pred)\n",
    "print(classification_report(y_test, y_pred))"
   ],
   "id": "d544d12953050c30",
   "outputs": [
    {
     "name": "stdout",
     "output_type": "stream",
     "text": [
      "              precision    recall  f1-score   support\n",
      "\n",
      "           0       0.86      0.98      0.92      8493\n",
      "           1       0.47      0.10      0.17      1507\n",
      "\n",
      "    accuracy                           0.85     10000\n",
      "   macro avg       0.66      0.54      0.54     10000\n",
      "weighted avg       0.80      0.85      0.80     10000\n",
      "\n"
     ]
    }
   ],
   "execution_count": 71
  },
  {
   "metadata": {},
   "cell_type": "markdown",
   "source": "Şimdi ise farklı bir model ile sonuclara bakacağım ",
   "id": "49fefa99990bf419"
  },
  {
   "metadata": {
    "ExecuteTime": {
     "end_time": "2024-05-03T15:39:59.141735Z",
     "start_time": "2024-05-03T15:39:58.888061Z"
    }
   },
   "cell_type": "code",
   "source": [
    "xgbp = xgb.XGBClassifier()\n",
    "xgb_model = xgbp.fit(x_train, y_train)\n",
    "xgb_model.score(x_test, y_test)"
   ],
   "id": "2b0621575c90f397",
   "outputs": [
    {
     "data": {
      "text/plain": [
       "0.8494"
      ]
     },
     "execution_count": 56,
     "metadata": {},
     "output_type": "execute_result"
    }
   ],
   "execution_count": 56
  },
  {
   "metadata": {
    "ExecuteTime": {
     "end_time": "2024-05-03T15:40:02.588927Z",
     "start_time": "2024-05-03T15:40:01.601079Z"
    }
   },
   "cell_type": "code",
   "source": [
    "cv_xgb = cross_val_score(xgb_model, x_train, y_train, cv=4)\n",
    "cv_xgb"
   ],
   "id": "782d8ff9052a7fac",
   "outputs": [
    {
     "data": {
      "text/plain": [
       "array([0.8457, 0.8487, 0.8457, 0.8449])"
      ]
     },
     "execution_count": 57,
     "metadata": {},
     "output_type": "execute_result"
    }
   ],
   "execution_count": 57
  },
  {
   "metadata": {
    "ExecuteTime": {
     "end_time": "2024-05-03T16:13:30.091046Z",
     "start_time": "2024-05-03T16:13:30.056815Z"
    }
   },
   "cell_type": "code",
   "source": [
    "y_pred_xgb = xgb_model.predict(x_test)\n",
    "cm_xgb = confusion_matrix(y_test, y_pred_xgb)\n",
    "accuracy = accuracy_score(y_test, y_pred_xgb)\n",
    "print(classification_report(y_test, y_pred_xgb))"
   ],
   "id": "270cf99701977a3f",
   "outputs": [
    {
     "name": "stdout",
     "output_type": "stream",
     "text": [
      "              precision    recall  f1-score   support\n",
      "\n",
      "           0       0.86      0.98      0.92      8493\n",
      "           1       0.50      0.11      0.17      1507\n",
      "\n",
      "    accuracy                           0.85     10000\n",
      "   macro avg       0.68      0.54      0.55     10000\n",
      "weighted avg       0.81      0.85      0.81     10000\n",
      "\n"
     ]
    }
   ],
   "execution_count": 70
  },
  {
   "metadata": {
    "ExecuteTime": {
     "end_time": "2024-05-02T18:47:09.810072Z",
     "start_time": "2024-05-02T18:47:09.806495Z"
    }
   },
   "cell_type": "code",
   "source": [
    "xgb_params = {\n",
    "    'max_depth': [3, 4, 5, 6],  \n",
    "    'learning_rate': [0.01, 0.05, 0.1, 0.2],\n",
    "    'n_estimators': [100, 200, 300, 500],\n",
    "    'min_child_weight': [1, 5, 10],\n",
    "    'gamma': [0, 0.5, 1, 1.5, 2, 5],\n",
    "    'subsample': [0.6, 0.8, 1.0],\n",
    "    'colsample_bytree': [0.6, 0.8, 1.0],\n",
    "    'reg_alpha': [0, 0.5, 1],\n",
    "    'reg_lambda': [1, 1.5, 2, 5]\n",
    "}\n"
   ],
   "id": "359f1742444c9737",
   "outputs": [],
   "execution_count": 103
  },
  {
   "metadata": {
    "ExecuteTime": {
     "end_time": "2024-05-02T19:10:37.104289Z",
     "start_time": "2024-05-02T18:48:06.038323Z"
    }
   },
   "cell_type": "code",
   "source": [
    "xgb_model = xgb.XGBClassifier()\n",
    "\n",
    "xgb_randomcv_model = RandomizedSearchCV(estimator=xgb_model, \n",
    "                                       param_distributions=xgb_params, \n",
    "                                       n_iter=100, \n",
    "                                       cv=5, \n",
    "                                       scoring='accuracy', \n",
    "                                       n_jobs=-1, \n",
    "                                       verbose=2).fit(x_train, y_train)\n",
    "\n",
    "\n",
    "print('En iyi parametreler:', xgb_randomcv_model.best_params_)\n",
    "print('En iyi accuracy score:', xgb_randomcv_model.best_score_)\n"
   ],
   "id": "c9b0d3abc4ab7a64",
   "outputs": [
    {
     "name": "stdout",
     "output_type": "stream",
     "text": [
      "Fitting 5 folds for each of 100 candidates, totalling 500 fits\n",
      "En iyi parametreler: {'subsample': 1.0, 'reg_lambda': 5, 'reg_alpha': 0.5, 'n_estimators': 100, 'min_child_weight': 10, 'max_depth': 6, 'learning_rate': 0.1, 'gamma': 1, 'colsample_bytree': 0.6}\n",
      "En iyi accuracy score: 0.851675\n"
     ]
    }
   ],
   "execution_count": 104
  },
  {
   "metadata": {
    "ExecuteTime": {
     "end_time": "2024-05-03T16:18:40.014269Z",
     "start_time": "2024-05-03T16:18:39.964138Z"
    }
   },
   "cell_type": "code",
   "source": [
    "rc = RidgeClassifier()\n",
    "rc_model = rc.fit(x_train, y_train)\n",
    "rc_model.score(x_test,y_test)\n"
   ],
   "id": "8990e0cfda292d",
   "outputs": [
    {
     "data": {
      "text/plain": [
       "0.8506"
      ]
     },
     "execution_count": 73,
     "metadata": {},
     "output_type": "execute_result"
    }
   ],
   "execution_count": 73
  },
  {
   "metadata": {
    "ExecuteTime": {
     "end_time": "2024-05-03T16:14:46.698063Z",
     "start_time": "2024-05-03T16:14:46.671686Z"
    }
   },
   "cell_type": "code",
   "source": [
    "y_pred_rc = rc_model.predict(x_test)\n",
    "cm_rc = confusion_matrix(y_test, y_pred_rc)\n",
    "accuracy = accuracy_score(y_test, y_pred_rc)\n",
    "\n",
    "print(classification_report(y_test, y_pred_rc))"
   ],
   "id": "35400ae71236baec",
   "outputs": [
    {
     "name": "stdout",
     "output_type": "stream",
     "text": [
      "              precision    recall  f1-score   support\n",
      "\n",
      "           0       0.85      1.00      0.92      8493\n",
      "           1       0.59      0.03      0.06      1507\n",
      "\n",
      "    accuracy                           0.85     10000\n",
      "   macro avg       0.72      0.51      0.49     10000\n",
      "weighted avg       0.81      0.85      0.79     10000\n",
      "\n"
     ]
    }
   ],
   "execution_count": 72
  },
  {
   "metadata": {
    "ExecuteTime": {
     "end_time": "2024-05-03T15:40:25.188316Z",
     "start_time": "2024-05-03T15:40:21.681475Z"
    }
   },
   "cell_type": "code",
   "source": [
    "gb = GradientBoostingClassifier()\n",
    "gb_model = gb.fit(x_train, y_train)\n",
    "gb_model.score(x_test,y_test)"
   ],
   "id": "2190ce1ae51bc1a4",
   "outputs": [
    {
     "data": {
      "text/plain": [
       "0.8495"
      ]
     },
     "execution_count": 61,
     "metadata": {},
     "output_type": "execute_result"
    }
   ],
   "execution_count": 61
  },
  {
   "metadata": {
    "ExecuteTime": {
     "end_time": "2024-05-03T15:40:37.869796Z",
     "start_time": "2024-05-03T15:40:27.293788Z"
    }
   },
   "cell_type": "code",
   "source": [
    "cv_gb = cross_val_score(gb_model, x_train, y_train, cv=4)\n",
    "cv_gb"
   ],
   "id": "a62b5b5ed06336a2",
   "outputs": [
    {
     "data": {
      "text/plain": [
       "array([0.8491, 0.8506, 0.8517, 0.8515])"
      ]
     },
     "execution_count": 62,
     "metadata": {},
     "output_type": "execute_result"
    }
   ],
   "execution_count": 62
  },
  {
   "metadata": {
    "ExecuteTime": {
     "end_time": "2024-05-03T15:40:46.925914Z",
     "start_time": "2024-05-03T15:40:46.695849Z"
    }
   },
   "cell_type": "code",
   "source": [
    "lg = LogisticRegression()\n",
    "lg_model = lg.fit(x_train,y_train)\n",
    "lg_model.score(x_test,y_test)"
   ],
   "id": "f2cca7fd0e69c9e0",
   "outputs": [
    {
     "data": {
      "text/plain": [
       "0.8487"
      ]
     },
     "execution_count": 63,
     "metadata": {},
     "output_type": "execute_result"
    }
   ],
   "execution_count": 63
  },
  {
   "metadata": {
    "ExecuteTime": {
     "end_time": "2024-05-03T16:00:58.952212Z",
     "start_time": "2024-05-03T15:49:18.517900Z"
    }
   },
   "cell_type": "code",
   "source": [
    "gb_params = {\n",
    "    'learning_rate': [0.01, 0.05, 0.1, 0.2],\n",
    "    'n_estimators': [100, 200, 300, 500],\n",
    "    'max_depth': [3, 4, 5, 6],\n",
    "    'min_samples_split': [2, 5, 10],\n",
    "    'min_samples_leaf': [1, 2, 4],\n",
    "    'subsample': [0.6, 0.8, 1.0],\n",
    "    'max_features': ['auto', 'sqrt', 'log2', None]\n",
    "}\n",
    "gb_model = GradientBoostingClassifier()\n",
    "\n",
    "\n",
    "gb_randomcv_model = RandomizedSearchCV(estimator=gb_model, \n",
    "                                       param_distributions=gb_params, \n",
    "                                       n_iter=100, \n",
    "                                       cv=5, \n",
    "                                       scoring='accuracy', \n",
    "                                       n_jobs=-1, \n",
    "                                       verbose=2)\n",
    "\n",
    "\n",
    "gb_randomcv_model.fit(x_train, y_train)\n",
    "\n",
    "\n",
    "print('En iyi parametreler:', gb_randomcv_model.best_params_)\n",
    "print('En iyi accuracy score:', gb_randomcv_model.best_score_)"
   ],
   "id": "c57b73080aef8c47",
   "outputs": [
    {
     "name": "stdout",
     "output_type": "stream",
     "text": [
      "Fitting 5 folds for each of 100 candidates, totalling 500 fits\n",
      "En iyi parametreler: {'subsample': 0.6, 'n_estimators': 100, 'min_samples_split': 2, 'min_samples_leaf': 1, 'max_features': None, 'max_depth': 6, 'learning_rate': 0.05}\n",
      "En iyi accuracy score: 0.8515749999999999\n"
     ]
    }
   ],
   "execution_count": 65
  },
  {
   "metadata": {
    "ExecuteTime": {
     "end_time": "2024-05-03T15:48:15.894786Z",
     "start_time": "2024-05-03T15:44:04.324215Z"
    }
   },
   "cell_type": "code",
   "source": [
    "lg_params = {\n",
    "    'penalty': ['l1', 'l2', 'elasticnet', 'none'],\n",
    "    'C': np.logspace(-4, 4, 20),\n",
    "    'solver': ['newton-cg', 'lbfgs', 'liblinear', 'sag', 'saga'],\n",
    "    'max_iter': [100, 200, 300, 400, 500]\n",
    "}\n",
    "\n",
    "\n",
    "lg_model = LogisticRegression()\n",
    "lg_randomcv_model = RandomizedSearchCV(estimator=lg_model,\n",
    "                                       param_distributions=lg_params,\n",
    "                                       n_iter=100,\n",
    "                                       cv=5,\n",
    "                                       scoring='accuracy',\n",
    "                                       n_jobs=-1,\n",
    "                                       verbose=2,\n",
    "                                       random_state=42) \n",
    "\n",
    "lg_randomcv_model.fit(x_train, y_train)\n",
    "print('En iyi parametreler:', lg_randomcv_model.best_params_)\n",
    "print('En iyi accuracy score:', lg_randomcv_model.best_score_)"
   ],
   "id": "65cfa47dc7652610",
   "outputs": [
    {
     "name": "stdout",
     "output_type": "stream",
     "text": [
      "Fitting 5 folds for each of 100 candidates, totalling 500 fits\n",
      "En iyi parametreler: {'solver': 'saga', 'penalty': 'l2', 'max_iter': 500, 'C': 11.288378916846883}\n",
      "En iyi accuracy score: 0.8509500000000001\n"
     ]
    }
   ],
   "execution_count": 64
  },
  {
   "metadata": {},
   "cell_type": "code",
   "outputs": [],
   "execution_count": null,
   "source": "",
   "id": "e110c17b0fe3c808"
  }
 ],
 "metadata": {
  "kernelspec": {
   "display_name": "Python 3",
   "language": "python",
   "name": "python3"
  },
  "language_info": {
   "codemirror_mode": {
    "name": "ipython",
    "version": 2
   },
   "file_extension": ".py",
   "mimetype": "text/x-python",
   "name": "python",
   "nbconvert_exporter": "python",
   "pygments_lexer": "ipython2",
   "version": "2.7.6"
  }
 },
 "nbformat": 4,
 "nbformat_minor": 5
}
