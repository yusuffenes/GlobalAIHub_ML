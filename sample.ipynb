{
 "cells": [
  {
   "metadata": {},
   "cell_type": "markdown",
   "source": "Gerekli Importları ekliyoruz.",
   "id": "d946eeeaa07b468f"
  },
  {
   "metadata": {
    "ExecuteTime": {
     "end_time": "2024-05-02T19:12:22.196848Z",
     "start_time": "2024-05-02T19:12:22.193076Z"
    }
   },
   "cell_type": "code",
   "source": [
    "import numpy as np\n",
    "import pandas as pd\n",
    "import matplotlib.pyplot as plt\n",
    "import seaborn as sns\n",
    "from sklearn.model_selection import train_test_split, cross_val_score,RandomizedSearchCV\n",
    "from sklearn.preprocessing import OneHotEncoder\n",
    "from sklearn.ensemble import RandomForestClassifier,BaggingClassifier\n",
    "from sklearn.metrics import confusion_matrix,accuracy_score\n",
    "from sklearn.linear_model import RidgeClassifier\n",
    "import xgboost as xgb\n",
    "\n",
    "\n"
   ],
   "id": "fbc121e30a2defb3",
   "outputs": [],
   "execution_count": 105
  },
  {
   "metadata": {},
   "cell_type": "markdown",
   "source": "Dataset ekliyoruz. Bu verisetinde yapmaya çalıştığım şey verilen diğer bilgilere göre kullanıcının rezarvazyonu tamamlayacakmı  yoksa tamamlamadan çıkacakmı diye tahmin etmeye çalışacağım.",
   "id": "a424538c17ef2a17"
  },
  {
   "metadata": {
    "ExecuteTime": {
     "end_time": "2024-05-02T16:07:54.699576Z",
     "start_time": "2024-05-02T16:07:54.639677Z"
    }
   },
   "cell_type": "code",
   "source": [
    "df=pd.read_csv('data/customer_booking.csv',encoding='latin-1')\n",
    "df.head(10)"
   ],
   "id": "713b7f8efc98a422",
   "outputs": [
    {
     "data": {
      "text/plain": [
       "   num_passengers sales_channel  trip_type  purchase_lead  length_of_stay  \\\n",
       "0               2      Internet  RoundTrip            262              19   \n",
       "1               1      Internet  RoundTrip            112              20   \n",
       "2               2      Internet  RoundTrip            243              22   \n",
       "3               1      Internet  RoundTrip             96              31   \n",
       "4               2      Internet  RoundTrip             68              22   \n",
       "5               1      Internet  RoundTrip              3              48   \n",
       "6               3      Internet  RoundTrip            201              33   \n",
       "7               2      Internet  RoundTrip            238              19   \n",
       "8               1      Internet  RoundTrip             80              22   \n",
       "9               1        Mobile  RoundTrip            378              30   \n",
       "\n",
       "   flight_hour flight_day   route booking_origin  wants_extra_baggage  \\\n",
       "0            7        Sat  AKLDEL    New Zealand                    1   \n",
       "1            3        Sat  AKLDEL    New Zealand                    0   \n",
       "2           17        Wed  AKLDEL          India                    1   \n",
       "3            4        Sat  AKLDEL    New Zealand                    0   \n",
       "4           15        Wed  AKLDEL          India                    1   \n",
       "5           20        Thu  AKLDEL    New Zealand                    1   \n",
       "6            6        Thu  AKLDEL    New Zealand                    1   \n",
       "7           14        Mon  AKLDEL          India                    1   \n",
       "8            4        Mon  AKLDEL    New Zealand                    0   \n",
       "9           12        Sun  AKLDEL          India                    0   \n",
       "\n",
       "   wants_preferred_seat  wants_in_flight_meals  flight_duration  \\\n",
       "0                     0                      0             5.52   \n",
       "1                     0                      0             5.52   \n",
       "2                     1                      0             5.52   \n",
       "3                     0                      1             5.52   \n",
       "4                     0                      1             5.52   \n",
       "5                     0                      1             5.52   \n",
       "6                     0                      1             5.52   \n",
       "7                     0                      1             5.52   \n",
       "8                     0                      1             5.52   \n",
       "9                     0                      0             5.52   \n",
       "\n",
       "   booking_complete  \n",
       "0                 0  \n",
       "1                 0  \n",
       "2                 0  \n",
       "3                 0  \n",
       "4                 0  \n",
       "5                 0  \n",
       "6                 0  \n",
       "7                 0  \n",
       "8                 0  \n",
       "9                 0  "
      ],
      "text/html": [
       "<div>\n",
       "<style scoped>\n",
       "    .dataframe tbody tr th:only-of-type {\n",
       "        vertical-align: middle;\n",
       "    }\n",
       "\n",
       "    .dataframe tbody tr th {\n",
       "        vertical-align: top;\n",
       "    }\n",
       "\n",
       "    .dataframe thead th {\n",
       "        text-align: right;\n",
       "    }\n",
       "</style>\n",
       "<table border=\"1\" class=\"dataframe\">\n",
       "  <thead>\n",
       "    <tr style=\"text-align: right;\">\n",
       "      <th></th>\n",
       "      <th>num_passengers</th>\n",
       "      <th>sales_channel</th>\n",
       "      <th>trip_type</th>\n",
       "      <th>purchase_lead</th>\n",
       "      <th>length_of_stay</th>\n",
       "      <th>flight_hour</th>\n",
       "      <th>flight_day</th>\n",
       "      <th>route</th>\n",
       "      <th>booking_origin</th>\n",
       "      <th>wants_extra_baggage</th>\n",
       "      <th>wants_preferred_seat</th>\n",
       "      <th>wants_in_flight_meals</th>\n",
       "      <th>flight_duration</th>\n",
       "      <th>booking_complete</th>\n",
       "    </tr>\n",
       "  </thead>\n",
       "  <tbody>\n",
       "    <tr>\n",
       "      <th>0</th>\n",
       "      <td>2</td>\n",
       "      <td>Internet</td>\n",
       "      <td>RoundTrip</td>\n",
       "      <td>262</td>\n",
       "      <td>19</td>\n",
       "      <td>7</td>\n",
       "      <td>Sat</td>\n",
       "      <td>AKLDEL</td>\n",
       "      <td>New Zealand</td>\n",
       "      <td>1</td>\n",
       "      <td>0</td>\n",
       "      <td>0</td>\n",
       "      <td>5.52</td>\n",
       "      <td>0</td>\n",
       "    </tr>\n",
       "    <tr>\n",
       "      <th>1</th>\n",
       "      <td>1</td>\n",
       "      <td>Internet</td>\n",
       "      <td>RoundTrip</td>\n",
       "      <td>112</td>\n",
       "      <td>20</td>\n",
       "      <td>3</td>\n",
       "      <td>Sat</td>\n",
       "      <td>AKLDEL</td>\n",
       "      <td>New Zealand</td>\n",
       "      <td>0</td>\n",
       "      <td>0</td>\n",
       "      <td>0</td>\n",
       "      <td>5.52</td>\n",
       "      <td>0</td>\n",
       "    </tr>\n",
       "    <tr>\n",
       "      <th>2</th>\n",
       "      <td>2</td>\n",
       "      <td>Internet</td>\n",
       "      <td>RoundTrip</td>\n",
       "      <td>243</td>\n",
       "      <td>22</td>\n",
       "      <td>17</td>\n",
       "      <td>Wed</td>\n",
       "      <td>AKLDEL</td>\n",
       "      <td>India</td>\n",
       "      <td>1</td>\n",
       "      <td>1</td>\n",
       "      <td>0</td>\n",
       "      <td>5.52</td>\n",
       "      <td>0</td>\n",
       "    </tr>\n",
       "    <tr>\n",
       "      <th>3</th>\n",
       "      <td>1</td>\n",
       "      <td>Internet</td>\n",
       "      <td>RoundTrip</td>\n",
       "      <td>96</td>\n",
       "      <td>31</td>\n",
       "      <td>4</td>\n",
       "      <td>Sat</td>\n",
       "      <td>AKLDEL</td>\n",
       "      <td>New Zealand</td>\n",
       "      <td>0</td>\n",
       "      <td>0</td>\n",
       "      <td>1</td>\n",
       "      <td>5.52</td>\n",
       "      <td>0</td>\n",
       "    </tr>\n",
       "    <tr>\n",
       "      <th>4</th>\n",
       "      <td>2</td>\n",
       "      <td>Internet</td>\n",
       "      <td>RoundTrip</td>\n",
       "      <td>68</td>\n",
       "      <td>22</td>\n",
       "      <td>15</td>\n",
       "      <td>Wed</td>\n",
       "      <td>AKLDEL</td>\n",
       "      <td>India</td>\n",
       "      <td>1</td>\n",
       "      <td>0</td>\n",
       "      <td>1</td>\n",
       "      <td>5.52</td>\n",
       "      <td>0</td>\n",
       "    </tr>\n",
       "    <tr>\n",
       "      <th>5</th>\n",
       "      <td>1</td>\n",
       "      <td>Internet</td>\n",
       "      <td>RoundTrip</td>\n",
       "      <td>3</td>\n",
       "      <td>48</td>\n",
       "      <td>20</td>\n",
       "      <td>Thu</td>\n",
       "      <td>AKLDEL</td>\n",
       "      <td>New Zealand</td>\n",
       "      <td>1</td>\n",
       "      <td>0</td>\n",
       "      <td>1</td>\n",
       "      <td>5.52</td>\n",
       "      <td>0</td>\n",
       "    </tr>\n",
       "    <tr>\n",
       "      <th>6</th>\n",
       "      <td>3</td>\n",
       "      <td>Internet</td>\n",
       "      <td>RoundTrip</td>\n",
       "      <td>201</td>\n",
       "      <td>33</td>\n",
       "      <td>6</td>\n",
       "      <td>Thu</td>\n",
       "      <td>AKLDEL</td>\n",
       "      <td>New Zealand</td>\n",
       "      <td>1</td>\n",
       "      <td>0</td>\n",
       "      <td>1</td>\n",
       "      <td>5.52</td>\n",
       "      <td>0</td>\n",
       "    </tr>\n",
       "    <tr>\n",
       "      <th>7</th>\n",
       "      <td>2</td>\n",
       "      <td>Internet</td>\n",
       "      <td>RoundTrip</td>\n",
       "      <td>238</td>\n",
       "      <td>19</td>\n",
       "      <td>14</td>\n",
       "      <td>Mon</td>\n",
       "      <td>AKLDEL</td>\n",
       "      <td>India</td>\n",
       "      <td>1</td>\n",
       "      <td>0</td>\n",
       "      <td>1</td>\n",
       "      <td>5.52</td>\n",
       "      <td>0</td>\n",
       "    </tr>\n",
       "    <tr>\n",
       "      <th>8</th>\n",
       "      <td>1</td>\n",
       "      <td>Internet</td>\n",
       "      <td>RoundTrip</td>\n",
       "      <td>80</td>\n",
       "      <td>22</td>\n",
       "      <td>4</td>\n",
       "      <td>Mon</td>\n",
       "      <td>AKLDEL</td>\n",
       "      <td>New Zealand</td>\n",
       "      <td>0</td>\n",
       "      <td>0</td>\n",
       "      <td>1</td>\n",
       "      <td>5.52</td>\n",
       "      <td>0</td>\n",
       "    </tr>\n",
       "    <tr>\n",
       "      <th>9</th>\n",
       "      <td>1</td>\n",
       "      <td>Mobile</td>\n",
       "      <td>RoundTrip</td>\n",
       "      <td>378</td>\n",
       "      <td>30</td>\n",
       "      <td>12</td>\n",
       "      <td>Sun</td>\n",
       "      <td>AKLDEL</td>\n",
       "      <td>India</td>\n",
       "      <td>0</td>\n",
       "      <td>0</td>\n",
       "      <td>0</td>\n",
       "      <td>5.52</td>\n",
       "      <td>0</td>\n",
       "    </tr>\n",
       "  </tbody>\n",
       "</table>\n",
       "</div>"
      ]
     },
     "execution_count": 33,
     "metadata": {},
     "output_type": "execute_result"
    }
   ],
   "execution_count": 33
  },
  {
   "metadata": {
    "ExecuteTime": {
     "end_time": "2024-05-02T16:07:56.480714Z",
     "start_time": "2024-05-02T16:07:56.468370Z"
    }
   },
   "cell_type": "code",
   "source": "df.info()",
   "id": "a969f00f0de8e677",
   "outputs": [
    {
     "name": "stdout",
     "output_type": "stream",
     "text": [
      "<class 'pandas.core.frame.DataFrame'>\n",
      "RangeIndex: 50000 entries, 0 to 49999\n",
      "Data columns (total 14 columns):\n",
      " #   Column                 Non-Null Count  Dtype  \n",
      "---  ------                 --------------  -----  \n",
      " 0   num_passengers         50000 non-null  int64  \n",
      " 1   sales_channel          50000 non-null  object \n",
      " 2   trip_type              50000 non-null  object \n",
      " 3   purchase_lead          50000 non-null  int64  \n",
      " 4   length_of_stay         50000 non-null  int64  \n",
      " 5   flight_hour            50000 non-null  int64  \n",
      " 6   flight_day             50000 non-null  object \n",
      " 7   route                  50000 non-null  object \n",
      " 8   booking_origin         50000 non-null  object \n",
      " 9   wants_extra_baggage    50000 non-null  int64  \n",
      " 10  wants_preferred_seat   50000 non-null  int64  \n",
      " 11  wants_in_flight_meals  50000 non-null  int64  \n",
      " 12  flight_duration        50000 non-null  float64\n",
      " 13  booking_complete       50000 non-null  int64  \n",
      "dtypes: float64(1), int64(8), object(5)\n",
      "memory usage: 5.3+ MB\n"
     ]
    }
   ],
   "execution_count": 34
  },
  {
   "metadata": {},
   "cell_type": "markdown",
   "source": "Hiç null veri bulunmuyor bu yüzden herhangi bir düzenleme yapmamıza gerek yok sadece kategorisel verileri ML için uygun hale getirebiliriz.",
   "id": "abd523e01bba1164"
  },
  {
   "metadata": {
    "ExecuteTime": {
     "end_time": "2024-05-02T15:43:16.212860Z",
     "start_time": "2024-05-02T15:43:16.204864Z"
    }
   },
   "cell_type": "code",
   "source": "df.head(4)",
   "id": "f5785ea2d512f581",
   "outputs": [
    {
     "data": {
      "text/plain": [
       "   num_passengers sales_channel  trip_type  purchase_lead  length_of_stay  \\\n",
       "0               2      Internet  RoundTrip            262              19   \n",
       "1               1      Internet  RoundTrip            112              20   \n",
       "2               2      Internet  RoundTrip            243              22   \n",
       "3               1      Internet  RoundTrip             96              31   \n",
       "\n",
       "   flight_hour flight_day   route booking_origin  wants_extra_baggage  \\\n",
       "0            7        Sat  AKLDEL    New Zealand                    1   \n",
       "1            3        Sat  AKLDEL    New Zealand                    0   \n",
       "2           17        Wed  AKLDEL          India                    1   \n",
       "3            4        Sat  AKLDEL    New Zealand                    0   \n",
       "\n",
       "   wants_preferred_seat  wants_in_flight_meals  flight_duration  \\\n",
       "0                     0                      0             5.52   \n",
       "1                     0                      0             5.52   \n",
       "2                     1                      0             5.52   \n",
       "3                     0                      1             5.52   \n",
       "\n",
       "   booking_complete  \n",
       "0                 0  \n",
       "1                 0  \n",
       "2                 0  \n",
       "3                 0  "
      ],
      "text/html": [
       "<div>\n",
       "<style scoped>\n",
       "    .dataframe tbody tr th:only-of-type {\n",
       "        vertical-align: middle;\n",
       "    }\n",
       "\n",
       "    .dataframe tbody tr th {\n",
       "        vertical-align: top;\n",
       "    }\n",
       "\n",
       "    .dataframe thead th {\n",
       "        text-align: right;\n",
       "    }\n",
       "</style>\n",
       "<table border=\"1\" class=\"dataframe\">\n",
       "  <thead>\n",
       "    <tr style=\"text-align: right;\">\n",
       "      <th></th>\n",
       "      <th>num_passengers</th>\n",
       "      <th>sales_channel</th>\n",
       "      <th>trip_type</th>\n",
       "      <th>purchase_lead</th>\n",
       "      <th>length_of_stay</th>\n",
       "      <th>flight_hour</th>\n",
       "      <th>flight_day</th>\n",
       "      <th>route</th>\n",
       "      <th>booking_origin</th>\n",
       "      <th>wants_extra_baggage</th>\n",
       "      <th>wants_preferred_seat</th>\n",
       "      <th>wants_in_flight_meals</th>\n",
       "      <th>flight_duration</th>\n",
       "      <th>booking_complete</th>\n",
       "    </tr>\n",
       "  </thead>\n",
       "  <tbody>\n",
       "    <tr>\n",
       "      <th>0</th>\n",
       "      <td>2</td>\n",
       "      <td>Internet</td>\n",
       "      <td>RoundTrip</td>\n",
       "      <td>262</td>\n",
       "      <td>19</td>\n",
       "      <td>7</td>\n",
       "      <td>Sat</td>\n",
       "      <td>AKLDEL</td>\n",
       "      <td>New Zealand</td>\n",
       "      <td>1</td>\n",
       "      <td>0</td>\n",
       "      <td>0</td>\n",
       "      <td>5.52</td>\n",
       "      <td>0</td>\n",
       "    </tr>\n",
       "    <tr>\n",
       "      <th>1</th>\n",
       "      <td>1</td>\n",
       "      <td>Internet</td>\n",
       "      <td>RoundTrip</td>\n",
       "      <td>112</td>\n",
       "      <td>20</td>\n",
       "      <td>3</td>\n",
       "      <td>Sat</td>\n",
       "      <td>AKLDEL</td>\n",
       "      <td>New Zealand</td>\n",
       "      <td>0</td>\n",
       "      <td>0</td>\n",
       "      <td>0</td>\n",
       "      <td>5.52</td>\n",
       "      <td>0</td>\n",
       "    </tr>\n",
       "    <tr>\n",
       "      <th>2</th>\n",
       "      <td>2</td>\n",
       "      <td>Internet</td>\n",
       "      <td>RoundTrip</td>\n",
       "      <td>243</td>\n",
       "      <td>22</td>\n",
       "      <td>17</td>\n",
       "      <td>Wed</td>\n",
       "      <td>AKLDEL</td>\n",
       "      <td>India</td>\n",
       "      <td>1</td>\n",
       "      <td>1</td>\n",
       "      <td>0</td>\n",
       "      <td>5.52</td>\n",
       "      <td>0</td>\n",
       "    </tr>\n",
       "    <tr>\n",
       "      <th>3</th>\n",
       "      <td>1</td>\n",
       "      <td>Internet</td>\n",
       "      <td>RoundTrip</td>\n",
       "      <td>96</td>\n",
       "      <td>31</td>\n",
       "      <td>4</td>\n",
       "      <td>Sat</td>\n",
       "      <td>AKLDEL</td>\n",
       "      <td>New Zealand</td>\n",
       "      <td>0</td>\n",
       "      <td>0</td>\n",
       "      <td>1</td>\n",
       "      <td>5.52</td>\n",
       "      <td>0</td>\n",
       "    </tr>\n",
       "  </tbody>\n",
       "</table>\n",
       "</div>"
      ]
     },
     "execution_count": 21,
     "metadata": {},
     "output_type": "execute_result"
    }
   ],
   "execution_count": 21
  },
  {
   "metadata": {},
   "cell_type": "markdown",
   "source": [
    "df['route'].unique().__len__()\n",
    "\n",
    "\n",
    "OUTPUT : 799 Görüldüğü gibi çok fazla benzersiz değer var bunlara tahmin etmek istediğim zaman daha kolay ulaşabilemek adına OneHotEncoding Kullanacağım."
   ],
   "id": "c80e049024d96f0a"
  },
  {
   "metadata": {
    "ExecuteTime": {
     "end_time": "2024-05-02T16:10:27.324480Z",
     "start_time": "2024-05-02T16:10:27.239655Z"
    }
   },
   "cell_type": "code",
   "source": [
    "ohe=OneHotEncoder()\n",
    "ohed=ohe.fit_transform(df[['sales_channel','trip_type','flight_day','route','booking_origin']]).toarray()"
   ],
   "id": "d7fc18f20c0f219d",
   "outputs": [],
   "execution_count": 35
  },
  {
   "metadata": {
    "ExecuteTime": {
     "end_time": "2024-05-02T16:11:44.717680Z",
     "start_time": "2024-05-02T16:11:44.712308Z"
    }
   },
   "cell_type": "code",
   "source": "ohe.get_feature_names_out()",
   "id": "94034a08c2eba6bd",
 
     "execution_count": 39,
     "metadata": {},
     "output_type": "execute_result"
    }
   ],
   "execution_count": 39
  },
  {
   "metadata": {},
   "cell_type": "markdown",
   "source": "Şimdi bunları veri setine eklemek için bir dataframe ekleyeceğim",
   "id": "708ea8684f16a5b0"
  },
  {
   "metadata": {
    "ExecuteTime": {
     "end_time": "2024-05-02T16:14:47.975889Z",
     "start_time": "2024-05-02T16:14:47.959474Z"
    }
   },
   "cell_type": "code",
   "source": [
    "ohed = pd.DataFrame(ohed,columns=ohe.get_feature_names_out())\n",
    "ohed.head()"
   ],
   "id": "d3a995339a16687a",
   "outputs": [
    {
     "data": {
      "text/plain": [
       "   sales_channel_Internet  sales_channel_Mobile  trip_type_CircleTrip  \\\n",
       "0                     1.0                   0.0                   0.0   \n",
       "1                     1.0                   0.0                   0.0   \n",
       "2                     1.0                   0.0                   0.0   \n",
       "3                     1.0                   0.0                   0.0   \n",
       "4                     1.0                   0.0                   0.0   \n",
       "\n",
       "   trip_type_OneWay  trip_type_RoundTrip  flight_day_Fri  flight_day_Mon  \\\n",
       "0               0.0                  1.0             0.0             0.0   \n",
       "1               0.0                  1.0             0.0             0.0   \n",
       "2               0.0                  1.0             0.0             0.0   \n",
       "3               0.0                  1.0             0.0             0.0   \n",
       "4               0.0                  1.0             0.0             0.0   \n",
       "\n",
       "   flight_day_Sat  flight_day_Sun  flight_day_Thu  ...  \\\n",
       "0             1.0             0.0             0.0  ...   \n",
       "1             1.0             0.0             0.0  ...   \n",
       "2             0.0             0.0             0.0  ...   \n",
       "3             1.0             0.0             0.0  ...   \n",
       "4             0.0             0.0             0.0  ...   \n",
       "\n",
       "   booking_origin_Timor-Leste  booking_origin_Tonga  booking_origin_Tunisia  \\\n",
       "0                         0.0                   0.0                     0.0   \n",
       "1                         0.0                   0.0                     0.0   \n",
       "2                         0.0                   0.0                     0.0   \n",
       "3                         0.0                   0.0                     0.0   \n",
       "4                         0.0                   0.0                     0.0   \n",
       "\n",
       "   booking_origin_Turkey  booking_origin_Ukraine  \\\n",
       "0                    0.0                     0.0   \n",
       "1                    0.0                     0.0   \n",
       "2                    0.0                     0.0   \n",
       "3                    0.0                     0.0   \n",
       "4                    0.0                     0.0   \n",
       "\n",
       "   booking_origin_United Arab Emirates  booking_origin_United Kingdom  \\\n",
       "0                                  0.0                            0.0   \n",
       "1                                  0.0                            0.0   \n",
       "2                                  0.0                            0.0   \n",
       "3                                  0.0                            0.0   \n",
       "4                                  0.0                            0.0   \n",
       "\n",
       "   booking_origin_United States  booking_origin_Vanuatu  \\\n",
       "0                           0.0                     0.0   \n",
       "1                           0.0                     0.0   \n",
       "2                           0.0                     0.0   \n",
       "3                           0.0                     0.0   \n",
       "4                           0.0                     0.0   \n",
       "\n",
       "   booking_origin_Vietnam  \n",
       "0                     0.0  \n",
       "1                     0.0  \n",
       "2                     0.0  \n",
       "3                     0.0  \n",
       "4                     0.0  \n",
       "\n",
       "[5 rows x 915 columns]"
      ],
      "text/html": [
       "<div>\n",
       "<style scoped>\n",
       "    .dataframe tbody tr th:only-of-type {\n",
       "        vertical-align: middle;\n",
       "    }\n",
       "\n",
       "    .dataframe tbody tr th {\n",
       "        vertical-align: top;\n",
       "    }\n",
       "\n",
       "    .dataframe thead th {\n",
       "        text-align: right;\n",
       "    }\n",
       "</style>\n",
       "<table border=\"1\" class=\"dataframe\">\n",
       "  <thead>\n",
       "    <tr style=\"text-align: right;\">\n",
       "      <th></th>\n",
       "      <th>sales_channel_Internet</th>\n",
       "      <th>sales_channel_Mobile</th>\n",
       "      <th>trip_type_CircleTrip</th>\n",
       "      <th>trip_type_OneWay</th>\n",
       "      <th>trip_type_RoundTrip</th>\n",
       "      <th>flight_day_Fri</th>\n",
       "      <th>flight_day_Mon</th>\n",
       "      <th>flight_day_Sat</th>\n",
       "      <th>flight_day_Sun</th>\n",
       "      <th>flight_day_Thu</th>\n",
       "      <th>...</th>\n",
       "      <th>booking_origin_Timor-Leste</th>\n",
       "      <th>booking_origin_Tonga</th>\n",
       "      <th>booking_origin_Tunisia</th>\n",
       "      <th>booking_origin_Turkey</th>\n",
       "      <th>booking_origin_Ukraine</th>\n",
       "      <th>booking_origin_United Arab Emirates</th>\n",
       "      <th>booking_origin_United Kingdom</th>\n",
       "      <th>booking_origin_United States</th>\n",
       "      <th>booking_origin_Vanuatu</th>\n",
       "      <th>booking_origin_Vietnam</th>\n",
       "    </tr>\n",
       "  </thead>\n",
       "  <tbody>\n",
       "    <tr>\n",
       "      <th>0</th>\n",
       "      <td>1.0</td>\n",
       "      <td>0.0</td>\n",
       "      <td>0.0</td>\n",
       "      <td>0.0</td>\n",
       "      <td>1.0</td>\n",
       "      <td>0.0</td>\n",
       "      <td>0.0</td>\n",
       "      <td>1.0</td>\n",
       "      <td>0.0</td>\n",
       "      <td>0.0</td>\n",
       "      <td>...</td>\n",
       "      <td>0.0</td>\n",
       "      <td>0.0</td>\n",
       "      <td>0.0</td>\n",
       "      <td>0.0</td>\n",
       "      <td>0.0</td>\n",
       "      <td>0.0</td>\n",
       "      <td>0.0</td>\n",
       "      <td>0.0</td>\n",
       "      <td>0.0</td>\n",
       "      <td>0.0</td>\n",
       "    </tr>\n",
       "    <tr>\n",
       "      <th>1</th>\n",
       "      <td>1.0</td>\n",
       "      <td>0.0</td>\n",
       "      <td>0.0</td>\n",
       "      <td>0.0</td>\n",
       "      <td>1.0</td>\n",
       "      <td>0.0</td>\n",
       "      <td>0.0</td>\n",
       "      <td>1.0</td>\n",
       "      <td>0.0</td>\n",
       "      <td>0.0</td>\n",
       "      <td>...</td>\n",
       "      <td>0.0</td>\n",
       "      <td>0.0</td>\n",
       "      <td>0.0</td>\n",
       "      <td>0.0</td>\n",
       "      <td>0.0</td>\n",
       "      <td>0.0</td>\n",
       "      <td>0.0</td>\n",
       "      <td>0.0</td>\n",
       "      <td>0.0</td>\n",
       "      <td>0.0</td>\n",
       "    </tr>\n",
       "    <tr>\n",
       "      <th>2</th>\n",
       "      <td>1.0</td>\n",
       "      <td>0.0</td>\n",
       "      <td>0.0</td>\n",
       "      <td>0.0</td>\n",
       "      <td>1.0</td>\n",
       "      <td>0.0</td>\n",
       "      <td>0.0</td>\n",
       "      <td>0.0</td>\n",
       "      <td>0.0</td>\n",
       "      <td>0.0</td>\n",
       "      <td>...</td>\n",
       "      <td>0.0</td>\n",
       "      <td>0.0</td>\n",
       "      <td>0.0</td>\n",
       "      <td>0.0</td>\n",
       "      <td>0.0</td>\n",
       "      <td>0.0</td>\n",
       "      <td>0.0</td>\n",
       "      <td>0.0</td>\n",
       "      <td>0.0</td>\n",
       "      <td>0.0</td>\n",
       "    </tr>\n",
       "    <tr>\n",
       "      <th>3</th>\n",
       "      <td>1.0</td>\n",
       "      <td>0.0</td>\n",
       "      <td>0.0</td>\n",
       "      <td>0.0</td>\n",
       "      <td>1.0</td>\n",
       "      <td>0.0</td>\n",
       "      <td>0.0</td>\n",
       "      <td>1.0</td>\n",
       "      <td>0.0</td>\n",
       "      <td>0.0</td>\n",
       "      <td>...</td>\n",
       "      <td>0.0</td>\n",
       "      <td>0.0</td>\n",
       "      <td>0.0</td>\n",
       "      <td>0.0</td>\n",
       "      <td>0.0</td>\n",
       "      <td>0.0</td>\n",
       "      <td>0.0</td>\n",
       "      <td>0.0</td>\n",
       "      <td>0.0</td>\n",
       "      <td>0.0</td>\n",
       "    </tr>\n",
       "    <tr>\n",
       "      <th>4</th>\n",
       "      <td>1.0</td>\n",
       "      <td>0.0</td>\n",
       "      <td>0.0</td>\n",
       "      <td>0.0</td>\n",
       "      <td>1.0</td>\n",
       "      <td>0.0</td>\n",
       "      <td>0.0</td>\n",
       "      <td>0.0</td>\n",
       "      <td>0.0</td>\n",
       "      <td>0.0</td>\n",
       "      <td>...</td>\n",
       "      <td>0.0</td>\n",
       "      <td>0.0</td>\n",
       "      <td>0.0</td>\n",
       "      <td>0.0</td>\n",
       "      <td>0.0</td>\n",
       "      <td>0.0</td>\n",
       "      <td>0.0</td>\n",
       "      <td>0.0</td>\n",
       "      <td>0.0</td>\n",
       "      <td>0.0</td>\n",
       "    </tr>\n",
       "  </tbody>\n",
       "</table>\n",
       "<p>5 rows × 915 columns</p>\n",
       "</div>"
      ]
     },
     "execution_count": 42,
     "metadata": {},
     "output_type": "execute_result"
    }
   ],
   "execution_count": 42
  },
  {
   "metadata": {},
   "cell_type": "markdown",
   "source": "Şimdi bunu bizim verisetimize ekelyeceğiz.",
   "id": "ff4290d774996c16"
  },
  {
   "metadata": {},
   "cell_type": "code",
   "source": "df.drop(columns=['sales_channel','trip_type','flight_day','route','booking_origin'], inplace=True)",
   "id": "ebac98c6718fdd4b",
   "outputs": [],
   "execution_count": null
  },
  {
   "metadata": {},
   "cell_type": "markdown",
   "source": "",
   "id": "5ebffff68caf9a9d"
  },
  {
   "metadata": {
    "ExecuteTime": {
     "end_time": "2024-05-02T16:17:12.544140Z",
     "start_time": "2024-05-02T16:17:11.953036Z"
    }
   },
   "cell_type": "code",
   "source": "df[ohed.columns]=ohed",
   "id": "f24694af2faf8afd",
   "execution_count": 44
  },
  {
   "metadata": {},
   "cell_type": "markdown",
   "source": "Şu anda ML için uygun hale geldi veri setimiz buradan sonra korelasyon ilişkilerini çıkartıp eğer ilişki önemsenmeyecek derece az olan var ise onaları verisetinden performans için çıkartıcağız.",
   "id": "84e0d8eced57aa5d"
  },
  {
   "metadata": {
    "ExecuteTime": {
     "end_time": "2024-05-02T17:05:45.678711Z",
     "start_time": "2024-05-02T17:05:45.623586Z"
    }
   },
   "cell_type": "code",
   "source": [
    "df_corr=pd.read_csv('data/customer_booking.csv',encoding='latin-1')\n",
    "df_corr = df_corr.drop(columns=['sales_channel','flight_day','route','booking_origin','trip_type'])"
   ],
   "id": "93d62ce71165d8fb",
   "outputs": [],
   "execution_count": 62
  },
  {
   "metadata": {
    "ExecuteTime": {
     "end_time": "2024-05-02T17:05:57.140010Z",
     "start_time": "2024-05-02T17:05:57.127715Z"
    }
   },
   "cell_type": "code",
   "source": "corr_matrix = df_corr.corr()",
   "id": "6a50997a4a02ad5d",
   "outputs": [],
   "execution_count": 64
  },
  {
   "metadata": {
    "ExecuteTime": {
     "end_time": "2024-05-02T17:13:42.772200Z",
     "start_time": "2024-05-02T17:13:42.364857Z"
    }
   },
   "cell_type": "code",
   "source": [
    "sns.heatmap(corr_matrix[[\"booking_complete\"]], cmap='tab10', annot=True)\n",
    "plt.show()"
   ],
   "id": "112bb82547a5f186",
   "outputs": [
    {
     "data": {
      "text/plain": [
       "<Figure size 640x480 with 2 Axes>"
      ],
      "image/png": "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"
     },
     "metadata": {},
     "output_type": "display_data"
    }
   ],
   "execution_count": 71
  },
  {
   "metadata": {},
   "cell_type": "markdown",
   "source": "Şimdi az korelasyon olanları çıkartalım.",
   "id": "f193edd3d9bc9503"
  },
  {
   "metadata": {
    "ExecuteTime": {
     "end_time": "2024-05-02T17:17:02.231658Z",
     "start_time": "2024-05-02T17:17:02.035183Z"
    }
   },
   "cell_type": "code",
   "source": "df.drop([\"flight_hour\",\"purchase_lead\"], axis=1, inplace=True)",
   "id": "ceb3efb38306b9c5",
   "outputs": [],
   "execution_count": 72
  },
  {
   "metadata": {
    "ExecuteTime": {
     "end_time": "2024-05-02T17:17:07.058616Z",
     "start_time": "2024-05-02T17:17:07.041926Z"
    }
   },
   "cell_type": "code",
   "source": "df.head(3)",
   "id": "92df00574a13d339",
   "outputs": [
    {
     "data": {
      "text/plain": [
       "   num_passengers  length_of_stay  wants_extra_baggage  wants_preferred_seat  \\\n",
       "0               2              19                    1                     0   \n",
       "1               1              20                    0                     0   \n",
       "2               2              22                    1                     1   \n",
       "\n",
       "   wants_in_flight_meals  flight_duration  booking_complete  \\\n",
       "0                      0             5.52                 0   \n",
       "1                      0             5.52                 0   \n",
       "2                      0             5.52                 0   \n",
       "\n",
       "   sales_channel_Internet  sales_channel_Mobile  trip_type_CircleTrip  ...  \\\n",
       "0                     1.0                   0.0                   0.0  ...   \n",
       "1                     1.0                   0.0                   0.0  ...   \n",
       "2                     1.0                   0.0                   0.0  ...   \n",
       "\n",
       "   booking_origin_Timor-Leste  booking_origin_Tonga  booking_origin_Tunisia  \\\n",
       "0                         0.0                   0.0                     0.0   \n",
       "1                         0.0                   0.0                     0.0   \n",
       "2                         0.0                   0.0                     0.0   \n",
       "\n",
       "   booking_origin_Turkey  booking_origin_Ukraine  \\\n",
       "0                    0.0                     0.0   \n",
       "1                    0.0                     0.0   \n",
       "2                    0.0                     0.0   \n",
       "\n",
       "   booking_origin_United Arab Emirates  booking_origin_United Kingdom  \\\n",
       "0                                  0.0                            0.0   \n",
       "1                                  0.0                            0.0   \n",
       "2                                  0.0                            0.0   \n",
       "\n",
       "   booking_origin_United States  booking_origin_Vanuatu  \\\n",
       "0                           0.0                     0.0   \n",
       "1                           0.0                     0.0   \n",
       "2                           0.0                     0.0   \n",
       "\n",
       "   booking_origin_Vietnam  \n",
       "0                     0.0  \n",
       "1                     0.0  \n",
       "2                     0.0  \n",
       "\n",
       "[3 rows x 922 columns]"
      ],
      "text/html": [
       "<div>\n",
       "<style scoped>\n",
       "    .dataframe tbody tr th:only-of-type {\n",
       "        vertical-align: middle;\n",
       "    }\n",
       "\n",
       "    .dataframe tbody tr th {\n",
       "        vertical-align: top;\n",
       "    }\n",
       "\n",
       "    .dataframe thead th {\n",
       "        text-align: right;\n",
       "    }\n",
       "</style>\n",
       "<table border=\"1\" class=\"dataframe\">\n",
       "  <thead>\n",
       "    <tr style=\"text-align: right;\">\n",
       "      <th></th>\n",
       "      <th>num_passengers</th>\n",
       "      <th>length_of_stay</th>\n",
       "      <th>wants_extra_baggage</th>\n",
       "      <th>wants_preferred_seat</th>\n",
       "      <th>wants_in_flight_meals</th>\n",
       "      <th>flight_duration</th>\n",
       "      <th>booking_complete</th>\n",
       "      <th>sales_channel_Internet</th>\n",
       "      <th>sales_channel_Mobile</th>\n",
       "      <th>trip_type_CircleTrip</th>\n",
       "      <th>...</th>\n",
       "      <th>booking_origin_Timor-Leste</th>\n",
       "      <th>booking_origin_Tonga</th>\n",
       "      <th>booking_origin_Tunisia</th>\n",
       "      <th>booking_origin_Turkey</th>\n",
       "      <th>booking_origin_Ukraine</th>\n",
       "      <th>booking_origin_United Arab Emirates</th>\n",
       "      <th>booking_origin_United Kingdom</th>\n",
       "      <th>booking_origin_United States</th>\n",
       "      <th>booking_origin_Vanuatu</th>\n",
       "      <th>booking_origin_Vietnam</th>\n",
       "    </tr>\n",
       "  </thead>\n",
       "  <tbody>\n",
       "    <tr>\n",
       "      <th>0</th>\n",
       "      <td>2</td>\n",
       "      <td>19</td>\n",
       "      <td>1</td>\n",
       "      <td>0</td>\n",
       "      <td>0</td>\n",
       "      <td>5.52</td>\n",
       "      <td>0</td>\n",
       "      <td>1.0</td>\n",
       "      <td>0.0</td>\n",
       "      <td>0.0</td>\n",
       "      <td>...</td>\n",
       "      <td>0.0</td>\n",
       "      <td>0.0</td>\n",
       "      <td>0.0</td>\n",
       "      <td>0.0</td>\n",
       "      <td>0.0</td>\n",
       "      <td>0.0</td>\n",
       "      <td>0.0</td>\n",
       "      <td>0.0</td>\n",
       "      <td>0.0</td>\n",
       "      <td>0.0</td>\n",
       "    </tr>\n",
       "    <tr>\n",
       "      <th>1</th>\n",
       "      <td>1</td>\n",
       "      <td>20</td>\n",
       "      <td>0</td>\n",
       "      <td>0</td>\n",
       "      <td>0</td>\n",
       "      <td>5.52</td>\n",
       "      <td>0</td>\n",
       "      <td>1.0</td>\n",
       "      <td>0.0</td>\n",
       "      <td>0.0</td>\n",
       "      <td>...</td>\n",
       "      <td>0.0</td>\n",
       "      <td>0.0</td>\n",
       "      <td>0.0</td>\n",
       "      <td>0.0</td>\n",
       "      <td>0.0</td>\n",
       "      <td>0.0</td>\n",
       "      <td>0.0</td>\n",
       "      <td>0.0</td>\n",
       "      <td>0.0</td>\n",
       "      <td>0.0</td>\n",
       "    </tr>\n",
       "    <tr>\n",
       "      <th>2</th>\n",
       "      <td>2</td>\n",
       "      <td>22</td>\n",
       "      <td>1</td>\n",
       "      <td>1</td>\n",
       "      <td>0</td>\n",
       "      <td>5.52</td>\n",
       "      <td>0</td>\n",
       "      <td>1.0</td>\n",
       "      <td>0.0</td>\n",
       "      <td>0.0</td>\n",
       "      <td>...</td>\n",
       "      <td>0.0</td>\n",
       "      <td>0.0</td>\n",
       "      <td>0.0</td>\n",
       "      <td>0.0</td>\n",
       "      <td>0.0</td>\n",
       "      <td>0.0</td>\n",
       "      <td>0.0</td>\n",
       "      <td>0.0</td>\n",
       "      <td>0.0</td>\n",
       "      <td>0.0</td>\n",
       "    </tr>\n",
       "  </tbody>\n",
       "</table>\n",
       "<p>3 rows × 922 columns</p>\n",
       "</div>"
      ]
     },
     "execution_count": 73,
     "metadata": {},
     "output_type": "execute_result"
    }
   ],
   "execution_count": 73
  },
  {
   "metadata": {},
   "cell_type": "markdown",
   "source": "Artık test ve train oluşturabiliriz.",
   "id": "c3a7ea66a70aecd2"
  },
  {
   "metadata": {},
   "cell_type": "markdown",
   "source": "50000 veri olduğu için %80 yeterli diye düşünüyorum.",
   "id": "73daaf694dedeac7"
  },
  {
   "metadata": {
    "ExecuteTime": {
     "end_time": "2024-05-02T17:20:10.207611Z",
     "start_time": "2024-05-02T17:20:09.602643Z"
    }
   },
   "cell_type": "code",
   "source": [
    "y=df['booking_complete']\n",
    "x=df.drop('booking_complete', axis=1)\n",
    "x_train, x_test, y_train, y_test = train_test_split(x, y, train_size=0.80, random_state=43)"
   ],
   "id": "a0a18493e6aa9d1d",
   "outputs": [],
   "execution_count": 75
  },
  {
   "metadata": {},
   "cell_type": "markdown",
   "source": "Artık model oluşturabiliriz öncelikle RandomForestClassifier kullanacağım.",
   "id": "73b1daaeada026ec"
  },
  {
   "metadata": {
    "ExecuteTime": {
     "end_time": "2024-05-02T17:22:41.405926Z",
     "start_time": "2024-05-02T17:22:15.593963Z"
    }
   },
   "cell_type": "code",
   "source": [
    "rf=RandomForestClassifier()\n",
    "model = rf.fit(x_train, y_train)\n",
    "model.score(x_test, y_test)"
   ],
   "id": "189614975f14ed98",
   "outputs": [
    {
     "data": {
      "text/plain": [
       "0.8325"
      ]
     },
     "execution_count": 78,
     "metadata": {},
     "output_type": "execute_result"
    }
   ],
   "execution_count": 78
  },
  {
   "metadata": {
    "ExecuteTime": {
     "end_time": "2024-05-02T18:34:33.086222Z",
     "start_time": "2024-05-02T18:33:44.412927Z"
    }
   },
   "cell_type": "code",
   "source": [
    "rf=RandomForestClassifier(n_estimators=200)\n",
    "model = rf.fit(x_train, y_train)\n",
    "model.score(x_test, y_test)"
   ],
   "id": "9b0ce21fc4bbc6cf",
   "outputs": [
    {
     "data": {
      "text/plain": [
       "0.8357"
      ]
     },
     "execution_count": 94,
     "metadata": {},
     "output_type": "execute_result"
    }
   ],
   "execution_count": 94
  },
  {
   "metadata": {
    "ExecuteTime": {
     "end_time": "2024-05-02T17:30:27.345064Z",
     "start_time": "2024-05-02T17:29:06.480720Z"
    }
   },
   "cell_type": "code",
   "source": [
    "cv = cross_val_score(model, x, y, cv=4)\n",
    "cv"
   ],
   "id": "37a84f229d8ab1bf",
   "outputs": [
    {
     "data": {
      "text/plain": [
       "array([0.84872, 0.75152, 0.27096, 0.71688])"
      ]
     },
     "execution_count": 81,
     "metadata": {},
     "output_type": "execute_result"
    }
   ],
   "execution_count": 81
  },
  {
   "metadata": {},
   "cell_type": "markdown",
   "source": "Şimdi karmaşıklık matrisini oluşturup değerlere bakalım",
   "id": "9580fc1560c18e87"
  },
  {
   "metadata": {
    "ExecuteTime": {
     "end_time": "2024-05-02T18:41:13.726246Z",
     "start_time": "2024-05-02T18:41:12.786532Z"
    }
   },
   "cell_type": "code",
   "source": [
    "y_pred = model.predict(x_test)\n",
    "cm = confusion_matrix(y_test, y_pred)\n",
    "accuracy = accuracy_score(y_test, y_pred)\n",
    "print(accuracy)\n",
    "cm"
   ],
   "id": "d544d12953050c30",
   "outputs": [
    {
     "name": "stdout",
     "output_type": "stream",
     "text": [
      "0.8357\n"
     ]
    },
    {
     "data": {
      "text/plain": [
       "array([[8089,  404],\n",
       "       [1239,  268]], dtype=int64)"
      ]
     },
     "execution_count": 98,
     "metadata": {},
     "output_type": "execute_result"
    }
   ],
   "execution_count": 98
  },
  {
   "metadata": {},
   "cell_type": "markdown",
   "source": "Şimdi ise farklı bir model ile sonuclara bakacağım ",
   "id": "49fefa99990bf419"
  },
  {
   "metadata": {
    "ExecuteTime": {
     "end_time": "2024-05-02T18:24:19.476473Z",
     "start_time": "2024-05-02T18:24:17.433738Z"
    }
   },
   "cell_type": "code",
   "source": [
    "xgbp = xgb.XGBClassifier()\n",
    "xgb_model = xgbp.fit(x_train, y_train)\n",
    "xgb_model.score(x_test, y_test)"
   ],
   "id": "2b0621575c90f397",
   "outputs": [
    {
     "data": {
      "text/plain": [
       "0.85"
      ]
     },
     "execution_count": 88,
     "metadata": {},
     "output_type": "execute_result"
    }
   ],
   "execution_count": 88
  },
  {
   "metadata": {
    "ExecuteTime": {
     "end_time": "2024-05-02T18:24:53.551383Z",
     "start_time": "2024-05-02T18:24:46.405089Z"
    }
   },
   "cell_type": "code",
   "source": [
    "cv_xgb = cross_val_score(xgb_model, x_train, y_train, cv=4)\n",
    "cv_xgb"
   ],
   "id": "782d8ff9052a7fac",
   "outputs": [
    {
     "data": {
      "text/plain": [
       "array([0.8469, 0.8509, 0.8513, 0.85  ])"
      ]
     },
     "execution_count": 89,
     "metadata": {},
     "output_type": "execute_result"
    }
   ],
   "execution_count": 89
  },
  {
   "metadata": {
    "ExecuteTime": {
     "end_time": "2024-05-02T18:41:59.592239Z",
     "start_time": "2024-05-02T18:41:59.486547Z"
    }
   },
   "cell_type": "code",
   "source": [
    "y_pred_xgb = xgb_model.predict(x_test)\n",
    "cm_xgb = confusion_matrix(y_test, y_pred_xgb)\n",
    "accuracy = accuracy_score(y_test, y_pred_xgb)\n",
    "print(accuracy)\n",
    "cm_xgb"
   ],
   "id": "270cf99701977a3f",
   "outputs": [
    {
     "name": "stdout",
     "output_type": "stream",
     "text": [
      "0.85\n"
     ]
    },
    {
     "data": {
      "text/plain": [
       "array([[8349,  144],\n",
       "       [1356,  151]], dtype=int64)"
      ]
     },
     "execution_count": 100,
     "metadata": {},
     "output_type": "execute_result"
    }
   ],
   "execution_count": 100
  },
  {
   "metadata": {
    "ExecuteTime": {
     "end_time": "2024-05-02T18:47:09.810072Z",
     "start_time": "2024-05-02T18:47:09.806495Z"
    }
   },
   "cell_type": "code",
   "source": [
    "xgb_params = {\n",
    "    'max_depth': [3, 4, 5, 6],  \n",
    "    'learning_rate': [0.01, 0.05, 0.1, 0.2],\n",
    "    'n_estimators': [100, 200, 300, 500],\n",
    "    'min_child_weight': [1, 5, 10],\n",
    "    'gamma': [0, 0.5, 1, 1.5, 2, 5],\n",
    "    'subsample': [0.6, 0.8, 1.0],\n",
    "    'colsample_bytree': [0.6, 0.8, 1.0],\n",
    "    'reg_alpha': [0, 0.5, 1],\n",
    "    'reg_lambda': [1, 1.5, 2, 5]\n",
    "}\n"
   ],
   "id": "359f1742444c9737",
   "outputs": [],
   "execution_count": 103
  },
  {
   "metadata": {
    "ExecuteTime": {
     "end_time": "2024-05-02T19:10:37.104289Z",
     "start_time": "2024-05-02T18:48:06.038323Z"
    }
   },
   "cell_type": "code",
   "source": [
    "xgb_model = xgb.XGBClassifier()\n",
    "\n",
    "xgb_randomcv_model = RandomizedSearchCV(estimator=xgb_model, \n",
    "                                       param_distributions=xgb_params, \n",
    "                                       n_iter=100, \n",
    "                                       cv=5, \n",
    "                                       scoring='accuracy', \n",
    "                                       n_jobs=-1, \n",
    "                                       verbose=2).fit(x_train, y_train)\n",
    "\n",
    "\n",
    "print('En iyi parametreler:', xgb_randomcv_model.best_params_)\n",
    "print('En iyi accuracy score:', xgb_randomcv_model.best_score_)\n"
   ],
   "id": "c9b0d3abc4ab7a64",
   "outputs": [
    {
     "name": "stdout",
     "output_type": "stream",
     "text": [
      "Fitting 5 folds for each of 100 candidates, totalling 500 fits\n",
      "En iyi parametreler: {'subsample': 1.0, 'reg_lambda': 5, 'reg_alpha': 0.5, 'n_estimators': 100, 'min_child_weight': 10, 'max_depth': 6, 'learning_rate': 0.1, 'gamma': 1, 'colsample_bytree': 0.6}\n",
      "En iyi accuracy score: 0.851675\n"
     ]
    }
   ],
   "execution_count": 104
  },
  {
   "metadata": {
    "ExecuteTime": {
     "end_time": "2024-05-02T18:32:55.393270Z",
     "start_time": "2024-05-02T18:32:54.475316Z"
    }
   },
   "cell_type": "code",
   "source": [
    "rc = RidgeClassifier()\n",
    "rc_model = rc.fit(x_train, y_train)\n",
    "rc_model.score(x_test,y_test)"
   ],
   "id": "8990e0cfda292d",
   "outputs": [
    {
     "data": {
      "text/plain": [
       "0.8473"
      ]
     },
     "execution_count": 93,
     "metadata": {},
     "output_type": "execute_result"
    }
   ],
   "execution_count": 93
  },
  {
   "metadata": {
    "ExecuteTime": {
     "end_time": "2024-05-02T18:42:02.684717Z",
     "start_time": "2024-05-02T18:42:02.624166Z"
    }
   },
   "cell_type": "code",
   "source": [
    "y_pred_rc = rc_model.predict(x_test)\n",
    "cm_rc = confusion_matrix(y_test, y_pred_rc)\n",
    "accuracy = accuracy_score(y_test, y_pred_rc)\n",
    "print(accuracy)\n",
    "cm_rc"
   ],
   "id": "35400ae71236baec",
   "outputs": [
    {
     "name": "stdout",
     "output_type": "stream",
     "text": [
      "0.8473\n"
     ]
    },
    {
     "data": {
      "text/plain": [
       "array([[8415,   78],\n",
       "       [1449,   58]], dtype=int64)"
      ]
     },
     "execution_count": 101,
     "metadata": {},
     "output_type": "execute_result"
    }
   ],
   "execution_count": 101
  },
  {
   "metadata": {
    "ExecuteTime": {
     "end_time": "2024-05-02T19:16:28.028786Z",
     "start_time": "2024-05-02T19:16:27.996859Z"
    }
   },
   "cell_type": "code",
   "source": "df",
   "id": "b3186d0e740b406c",
   "outputs": [
    {
     "data": {
      "text/plain": [
       "       num_passengers  length_of_stay  wants_extra_baggage  \\\n",
       "0                   2              19                    1   \n",
       "1                   1              20                    0   \n",
       "2                   2              22                    1   \n",
       "3                   1              31                    0   \n",
       "4                   2              22                    1   \n",
       "...               ...             ...                  ...   \n",
       "49995               2               6                    1   \n",
       "49996               1               6                    0   \n",
       "49997               1               6                    0   \n",
       "49998               1               6                    1   \n",
       "49999               1               6                    0   \n",
       "\n",
       "       wants_preferred_seat  wants_in_flight_meals  flight_duration  \\\n",
       "0                         0                      0             5.52   \n",
       "1                         0                      0             5.52   \n",
       "2                         1                      0             5.52   \n",
       "3                         0                      1             5.52   \n",
       "4                         0                      1             5.52   \n",
       "...                     ...                    ...              ...   \n",
       "49995                     0                      1             5.62   \n",
       "49996                     0                      0             5.62   \n",
       "49997                     0                      1             5.62   \n",
       "49998                     0                      1             5.62   \n",
       "49999                     1                      0             5.62   \n",
       "\n",
       "       booking_complete  sales_channel_Internet  sales_channel_Mobile  \\\n",
       "0                     0                     1.0                   0.0   \n",
       "1                     0                     1.0                   0.0   \n",
       "2                     0                     1.0                   0.0   \n",
       "3                     0                     1.0                   0.0   \n",
       "4                     0                     1.0                   0.0   \n",
       "...                 ...                     ...                   ...   \n",
       "49995                 0                     1.0                   0.0   \n",
       "49996                 0                     1.0                   0.0   \n",
       "49997                 0                     1.0                   0.0   \n",
       "49998                 0                     1.0                   0.0   \n",
       "49999                 0                     1.0                   0.0   \n",
       "\n",
       "       trip_type_CircleTrip  ...  booking_origin_Timor-Leste  \\\n",
       "0                       0.0  ...                         0.0   \n",
       "1                       0.0  ...                         0.0   \n",
       "2                       0.0  ...                         0.0   \n",
       "3                       0.0  ...                         0.0   \n",
       "4                       0.0  ...                         0.0   \n",
       "...                     ...  ...                         ...   \n",
       "49995                   0.0  ...                         0.0   \n",
       "49996                   0.0  ...                         0.0   \n",
       "49997                   0.0  ...                         0.0   \n",
       "49998                   0.0  ...                         0.0   \n",
       "49999                   0.0  ...                         0.0   \n",
       "\n",
       "       booking_origin_Tonga  booking_origin_Tunisia  booking_origin_Turkey  \\\n",
       "0                       0.0                     0.0                    0.0   \n",
       "1                       0.0                     0.0                    0.0   \n",
       "2                       0.0                     0.0                    0.0   \n",
       "3                       0.0                     0.0                    0.0   \n",
       "4                       0.0                     0.0                    0.0   \n",
       "...                     ...                     ...                    ...   \n",
       "49995                   0.0                     0.0                    0.0   \n",
       "49996                   0.0                     0.0                    0.0   \n",
       "49997                   0.0                     0.0                    0.0   \n",
       "49998                   0.0                     0.0                    0.0   \n",
       "49999                   0.0                     0.0                    0.0   \n",
       "\n",
       "       booking_origin_Ukraine  booking_origin_United Arab Emirates  \\\n",
       "0                         0.0                                  0.0   \n",
       "1                         0.0                                  0.0   \n",
       "2                         0.0                                  0.0   \n",
       "3                         0.0                                  0.0   \n",
       "4                         0.0                                  0.0   \n",
       "...                       ...                                  ...   \n",
       "49995                     0.0                                  0.0   \n",
       "49996                     0.0                                  0.0   \n",
       "49997                     0.0                                  0.0   \n",
       "49998                     0.0                                  0.0   \n",
       "49999                     0.0                                  0.0   \n",
       "\n",
       "       booking_origin_United Kingdom  booking_origin_United States  \\\n",
       "0                                0.0                           0.0   \n",
       "1                                0.0                           0.0   \n",
       "2                                0.0                           0.0   \n",
       "3                                0.0                           0.0   \n",
       "4                                0.0                           0.0   \n",
       "...                              ...                           ...   \n",
       "49995                            0.0                           0.0   \n",
       "49996                            0.0                           0.0   \n",
       "49997                            0.0                           0.0   \n",
       "49998                            0.0                           0.0   \n",
       "49999                            0.0                           0.0   \n",
       "\n",
       "       booking_origin_Vanuatu  booking_origin_Vietnam  \n",
       "0                         0.0                     0.0  \n",
       "1                         0.0                     0.0  \n",
       "2                         0.0                     0.0  \n",
       "3                         0.0                     0.0  \n",
       "4                         0.0                     0.0  \n",
       "...                       ...                     ...  \n",
       "49995                     0.0                     0.0  \n",
       "49996                     0.0                     0.0  \n",
       "49997                     0.0                     0.0  \n",
       "49998                     0.0                     0.0  \n",
       "49999                     0.0                     0.0  \n",
       "\n",
       "[50000 rows x 922 columns]"
      ],
      "text/html": [
       "<div>\n",
       "<style scoped>\n",
       "    .dataframe tbody tr th:only-of-type {\n",
       "        vertical-align: middle;\n",
       "    }\n",
       "\n",
       "    .dataframe tbody tr th {\n",
       "        vertical-align: top;\n",
       "    }\n",
       "\n",
       "    .dataframe thead th {\n",
       "        text-align: right;\n",
       "    }\n",
       "</style>\n",
       "<table border=\"1\" class=\"dataframe\">\n",
       "  <thead>\n",
       "    <tr style=\"text-align: right;\">\n",
       "      <th></th>\n",
       "      <th>num_passengers</th>\n",
       "      <th>length_of_stay</th>\n",
       "      <th>wants_extra_baggage</th>\n",
       "      <th>wants_preferred_seat</th>\n",
       "      <th>wants_in_flight_meals</th>\n",
       "      <th>flight_duration</th>\n",
       "      <th>booking_complete</th>\n",
       "      <th>sales_channel_Internet</th>\n",
       "      <th>sales_channel_Mobile</th>\n",
       "      <th>trip_type_CircleTrip</th>\n",
       "      <th>...</th>\n",
       "      <th>booking_origin_Timor-Leste</th>\n",
       "      <th>booking_origin_Tonga</th>\n",
       "      <th>booking_origin_Tunisia</th>\n",
       "      <th>booking_origin_Turkey</th>\n",
       "      <th>booking_origin_Ukraine</th>\n",
       "      <th>booking_origin_United Arab Emirates</th>\n",
       "      <th>booking_origin_United Kingdom</th>\n",
       "      <th>booking_origin_United States</th>\n",
       "      <th>booking_origin_Vanuatu</th>\n",
       "      <th>booking_origin_Vietnam</th>\n",
       "    </tr>\n",
       "  </thead>\n",
       "  <tbody>\n",
       "    <tr>\n",
       "      <th>0</th>\n",
       "      <td>2</td>\n",
       "      <td>19</td>\n",
       "      <td>1</td>\n",
       "      <td>0</td>\n",
       "      <td>0</td>\n",
       "      <td>5.52</td>\n",
       "      <td>0</td>\n",
       "      <td>1.0</td>\n",
       "      <td>0.0</td>\n",
       "      <td>0.0</td>\n",
       "      <td>...</td>\n",
       "      <td>0.0</td>\n",
       "      <td>0.0</td>\n",
       "      <td>0.0</td>\n",
       "      <td>0.0</td>\n",
       "      <td>0.0</td>\n",
       "      <td>0.0</td>\n",
       "      <td>0.0</td>\n",
       "      <td>0.0</td>\n",
       "      <td>0.0</td>\n",
       "      <td>0.0</td>\n",
       "    </tr>\n",
       "    <tr>\n",
       "      <th>1</th>\n",
       "      <td>1</td>\n",
       "      <td>20</td>\n",
       "      <td>0</td>\n",
       "      <td>0</td>\n",
       "      <td>0</td>\n",
       "      <td>5.52</td>\n",
       "      <td>0</td>\n",
       "      <td>1.0</td>\n",
       "      <td>0.0</td>\n",
       "      <td>0.0</td>\n",
       "      <td>...</td>\n",
       "      <td>0.0</td>\n",
       "      <td>0.0</td>\n",
       "      <td>0.0</td>\n",
       "      <td>0.0</td>\n",
       "      <td>0.0</td>\n",
       "      <td>0.0</td>\n",
       "      <td>0.0</td>\n",
       "      <td>0.0</td>\n",
       "      <td>0.0</td>\n",
       "      <td>0.0</td>\n",
       "    </tr>\n",
       "    <tr>\n",
       "      <th>2</th>\n",
       "      <td>2</td>\n",
       "      <td>22</td>\n",
       "      <td>1</td>\n",
       "      <td>1</td>\n",
       "      <td>0</td>\n",
       "      <td>5.52</td>\n",
       "      <td>0</td>\n",
       "      <td>1.0</td>\n",
       "      <td>0.0</td>\n",
       "      <td>0.0</td>\n",
       "      <td>...</td>\n",
       "      <td>0.0</td>\n",
       "      <td>0.0</td>\n",
       "      <td>0.0</td>\n",
       "      <td>0.0</td>\n",
       "      <td>0.0</td>\n",
       "      <td>0.0</td>\n",
       "      <td>0.0</td>\n",
       "      <td>0.0</td>\n",
       "      <td>0.0</td>\n",
       "      <td>0.0</td>\n",
       "    </tr>\n",
       "    <tr>\n",
       "      <th>3</th>\n",
       "      <td>1</td>\n",
       "      <td>31</td>\n",
       "      <td>0</td>\n",
       "      <td>0</td>\n",
       "      <td>1</td>\n",
       "      <td>5.52</td>\n",
       "      <td>0</td>\n",
       "      <td>1.0</td>\n",
       "      <td>0.0</td>\n",
       "      <td>0.0</td>\n",
       "      <td>...</td>\n",
       "      <td>0.0</td>\n",
       "      <td>0.0</td>\n",
       "      <td>0.0</td>\n",
       "      <td>0.0</td>\n",
       "      <td>0.0</td>\n",
       "      <td>0.0</td>\n",
       "      <td>0.0</td>\n",
       "      <td>0.0</td>\n",
       "      <td>0.0</td>\n",
       "      <td>0.0</td>\n",
       "    </tr>\n",
       "    <tr>\n",
       "      <th>4</th>\n",
       "      <td>2</td>\n",
       "      <td>22</td>\n",
       "      <td>1</td>\n",
       "      <td>0</td>\n",
       "      <td>1</td>\n",
       "      <td>5.52</td>\n",
       "      <td>0</td>\n",
       "      <td>1.0</td>\n",
       "      <td>0.0</td>\n",
       "      <td>0.0</td>\n",
       "      <td>...</td>\n",
       "      <td>0.0</td>\n",
       "      <td>0.0</td>\n",
       "      <td>0.0</td>\n",
       "      <td>0.0</td>\n",
       "      <td>0.0</td>\n",
       "      <td>0.0</td>\n",
       "      <td>0.0</td>\n",
       "      <td>0.0</td>\n",
       "      <td>0.0</td>\n",
       "      <td>0.0</td>\n",
       "    </tr>\n",
       "    <tr>\n",
       "      <th>...</th>\n",
       "      <td>...</td>\n",
       "      <td>...</td>\n",
       "      <td>...</td>\n",
       "      <td>...</td>\n",
       "      <td>...</td>\n",
       "      <td>...</td>\n",
       "      <td>...</td>\n",
       "      <td>...</td>\n",
       "      <td>...</td>\n",
       "      <td>...</td>\n",
       "      <td>...</td>\n",
       "      <td>...</td>\n",
       "      <td>...</td>\n",
       "      <td>...</td>\n",
       "      <td>...</td>\n",
       "      <td>...</td>\n",
       "      <td>...</td>\n",
       "      <td>...</td>\n",
       "      <td>...</td>\n",
       "      <td>...</td>\n",
       "      <td>...</td>\n",
       "    </tr>\n",
       "    <tr>\n",
       "      <th>49995</th>\n",
       "      <td>2</td>\n",
       "      <td>6</td>\n",
       "      <td>1</td>\n",
       "      <td>0</td>\n",
       "      <td>1</td>\n",
       "      <td>5.62</td>\n",
       "      <td>0</td>\n",
       "      <td>1.0</td>\n",
       "      <td>0.0</td>\n",
       "      <td>0.0</td>\n",
       "      <td>...</td>\n",
       "      <td>0.0</td>\n",
       "      <td>0.0</td>\n",
       "      <td>0.0</td>\n",
       "      <td>0.0</td>\n",
       "      <td>0.0</td>\n",
       "      <td>0.0</td>\n",
       "      <td>0.0</td>\n",
       "      <td>0.0</td>\n",
       "      <td>0.0</td>\n",
       "      <td>0.0</td>\n",
       "    </tr>\n",
       "    <tr>\n",
       "      <th>49996</th>\n",
       "      <td>1</td>\n",
       "      <td>6</td>\n",
       "      <td>0</td>\n",
       "      <td>0</td>\n",
       "      <td>0</td>\n",
       "      <td>5.62</td>\n",
       "      <td>0</td>\n",
       "      <td>1.0</td>\n",
       "      <td>0.0</td>\n",
       "      <td>0.0</td>\n",
       "      <td>...</td>\n",
       "      <td>0.0</td>\n",
       "      <td>0.0</td>\n",
       "      <td>0.0</td>\n",
       "      <td>0.0</td>\n",
       "      <td>0.0</td>\n",
       "      <td>0.0</td>\n",
       "      <td>0.0</td>\n",
       "      <td>0.0</td>\n",
       "      <td>0.0</td>\n",
       "      <td>0.0</td>\n",
       "    </tr>\n",
       "    <tr>\n",
       "      <th>49997</th>\n",
       "      <td>1</td>\n",
       "      <td>6</td>\n",
       "      <td>0</td>\n",
       "      <td>0</td>\n",
       "      <td>1</td>\n",
       "      <td>5.62</td>\n",
       "      <td>0</td>\n",
       "      <td>1.0</td>\n",
       "      <td>0.0</td>\n",
       "      <td>0.0</td>\n",
       "      <td>...</td>\n",
       "      <td>0.0</td>\n",
       "      <td>0.0</td>\n",
       "      <td>0.0</td>\n",
       "      <td>0.0</td>\n",
       "      <td>0.0</td>\n",
       "      <td>0.0</td>\n",
       "      <td>0.0</td>\n",
       "      <td>0.0</td>\n",
       "      <td>0.0</td>\n",
       "      <td>0.0</td>\n",
       "    </tr>\n",
       "    <tr>\n",
       "      <th>49998</th>\n",
       "      <td>1</td>\n",
       "      <td>6</td>\n",
       "      <td>1</td>\n",
       "      <td>0</td>\n",
       "      <td>1</td>\n",
       "      <td>5.62</td>\n",
       "      <td>0</td>\n",
       "      <td>1.0</td>\n",
       "      <td>0.0</td>\n",
       "      <td>0.0</td>\n",
       "      <td>...</td>\n",
       "      <td>0.0</td>\n",
       "      <td>0.0</td>\n",
       "      <td>0.0</td>\n",
       "      <td>0.0</td>\n",
       "      <td>0.0</td>\n",
       "      <td>0.0</td>\n",
       "      <td>0.0</td>\n",
       "      <td>0.0</td>\n",
       "      <td>0.0</td>\n",
       "      <td>0.0</td>\n",
       "    </tr>\n",
       "    <tr>\n",
       "      <th>49999</th>\n",
       "      <td>1</td>\n",
       "      <td>6</td>\n",
       "      <td>0</td>\n",
       "      <td>1</td>\n",
       "      <td>0</td>\n",
       "      <td>5.62</td>\n",
       "      <td>0</td>\n",
       "      <td>1.0</td>\n",
       "      <td>0.0</td>\n",
       "      <td>0.0</td>\n",
       "      <td>...</td>\n",
       "      <td>0.0</td>\n",
       "      <td>0.0</td>\n",
       "      <td>0.0</td>\n",
       "      <td>0.0</td>\n",
       "      <td>0.0</td>\n",
       "      <td>0.0</td>\n",
       "      <td>0.0</td>\n",
       "      <td>0.0</td>\n",
       "      <td>0.0</td>\n",
       "      <td>0.0</td>\n",
       "    </tr>\n",
       "  </tbody>\n",
       "</table>\n",
       "<p>50000 rows × 922 columns</p>\n",
       "</div>"
      ]
     },
     "execution_count": 107,
     "metadata": {},
     "output_type": "execute_result"
    }
   ],
   "execution_count": 107
  },
  {
   "metadata": {},
   "cell_type": "code",
   "outputs": [],
   "execution_count": null,
   "source": "",
   "id": "2190ce1ae51bc1a4"
  }
 ],
 "metadata": {
  "kernelspec": {
   "display_name": "Python 3",
   "language": "python",
   "name": "python3"
  },
  "language_info": {
   "codemirror_mode": {
    "name": "ipython",
    "version": 2
   },
   "file_extension": ".py",
   "mimetype": "text/x-python",
   "name": "python",
   "nbconvert_exporter": "python",
   "pygments_lexer": "ipython2",
   "version": "2.7.6"
  }
 },
 "nbformat": 4,
 "nbformat_minor": 5
}
