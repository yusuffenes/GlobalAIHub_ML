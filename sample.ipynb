{
 "cells": [
  {
   "metadata": {},
   "cell_type": "markdown",
   "source": "Gerekli Importları ekliyoruz.",
   "id": "d946eeeaa07b468f"
  },
  {
   "metadata": {
    "ExecuteTime": {
     "end_time": "2024-05-03T06:47:30.869748Z",
     "start_time": "2024-05-03T06:47:30.865871Z"
    }
   },
   "cell_type": "code",
   "source": [
    "import numpy as np\n",
    "import pandas as pd\n",
    "import matplotlib.pyplot as plt\n",
    "import seaborn as sns\n",
    "from sklearn.model_selection import train_test_split, cross_val_score,RandomizedSearchCV\n",
    "from sklearn.preprocessing import OneHotEncoder\n",
    "from sklearn.ensemble import RandomForestClassifier,GradientBoostingClassifier\n",
    "from sklearn.metrics import confusion_matrix,accuracy_score\n",
    "from sklearn.linear_model import RidgeClassifier,LogisticRegression\n",
    "import xgboost as xgb\n",
    "import warnings\n",
    "warnings.filterwarnings('ignore')\n",
    "\n",
    "\n"
   ],
   "id": "fbc121e30a2defb3",
   "outputs": [],
   "execution_count": 26
  },
  {
   "metadata": {},
   "cell_type": "markdown",
   "source": "Dataset ekliyoruz. Bu verisetinde yapmaya çalıştığım şey verilen diğer bilgilere göre kullanıcının rezarvazyonu tamamlayacakmı  yoksa tamamlamadan çıkacakmı diye tahmin etmeye çalışacağım.",
   "id": "a424538c17ef2a17"
  },
  {
   "metadata": {
    "ExecuteTime": {
     "end_time": "2024-05-03T06:39:52.274539Z",
     "start_time": "2024-05-03T06:39:52.199559Z"
    }
   },
   "cell_type": "code",
   "source": [
    "df=pd.read_csv('data/customer_booking.csv',encoding='latin-1')\n",
    "df.head(10)"
   ],
   "id": "713b7f8efc98a422",
   "outputs": [
    {
     "data": {
      "text/plain": [
       "   num_passengers sales_channel  trip_type  purchase_lead  length_of_stay  \\\n",
       "0               2      Internet  RoundTrip            262              19   \n",
       "1               1      Internet  RoundTrip            112              20   \n",
       "2               2      Internet  RoundTrip            243              22   \n",
       "3               1      Internet  RoundTrip             96              31   \n",
       "4               2      Internet  RoundTrip             68              22   \n",
       "5               1      Internet  RoundTrip              3              48   \n",
       "6               3      Internet  RoundTrip            201              33   \n",
       "7               2      Internet  RoundTrip            238              19   \n",
       "8               1      Internet  RoundTrip             80              22   \n",
       "9               1        Mobile  RoundTrip            378              30   \n",
       "\n",
       "   flight_hour flight_day   route booking_origin  wants_extra_baggage  \\\n",
       "0            7        Sat  AKLDEL    New Zealand                    1   \n",
       "1            3        Sat  AKLDEL    New Zealand                    0   \n",
       "2           17        Wed  AKLDEL          India                    1   \n",
       "3            4        Sat  AKLDEL    New Zealand                    0   \n",
       "4           15        Wed  AKLDEL          India                    1   \n",
       "5           20        Thu  AKLDEL    New Zealand                    1   \n",
       "6            6        Thu  AKLDEL    New Zealand                    1   \n",
       "7           14        Mon  AKLDEL          India                    1   \n",
       "8            4        Mon  AKLDEL    New Zealand                    0   \n",
       "9           12        Sun  AKLDEL          India                    0   \n",
       "\n",
       "   wants_preferred_seat  wants_in_flight_meals  flight_duration  \\\n",
       "0                     0                      0             5.52   \n",
       "1                     0                      0             5.52   \n",
       "2                     1                      0             5.52   \n",
       "3                     0                      1             5.52   \n",
       "4                     0                      1             5.52   \n",
       "5                     0                      1             5.52   \n",
       "6                     0                      1             5.52   \n",
       "7                     0                      1             5.52   \n",
       "8                     0                      1             5.52   \n",
       "9                     0                      0             5.52   \n",
       "\n",
       "   booking_complete  \n",
       "0                 0  \n",
       "1                 0  \n",
       "2                 0  \n",
       "3                 0  \n",
       "4                 0  \n",
       "5                 0  \n",
       "6                 0  \n",
       "7                 0  \n",
       "8                 0  \n",
       "9                 0  "
      ],
      "text/html": [
       "<div>\n",
       "<style scoped>\n",
       "    .dataframe tbody tr th:only-of-type {\n",
       "        vertical-align: middle;\n",
       "    }\n",
       "\n",
       "    .dataframe tbody tr th {\n",
       "        vertical-align: top;\n",
       "    }\n",
       "\n",
       "    .dataframe thead th {\n",
       "        text-align: right;\n",
       "    }\n",
       "</style>\n",
       "<table border=\"1\" class=\"dataframe\">\n",
       "  <thead>\n",
       "    <tr style=\"text-align: right;\">\n",
       "      <th></th>\n",
       "      <th>num_passengers</th>\n",
       "      <th>sales_channel</th>\n",
       "      <th>trip_type</th>\n",
       "      <th>purchase_lead</th>\n",
       "      <th>length_of_stay</th>\n",
       "      <th>flight_hour</th>\n",
       "      <th>flight_day</th>\n",
       "      <th>route</th>\n",
       "      <th>booking_origin</th>\n",
       "      <th>wants_extra_baggage</th>\n",
       "      <th>wants_preferred_seat</th>\n",
       "      <th>wants_in_flight_meals</th>\n",
       "      <th>flight_duration</th>\n",
       "      <th>booking_complete</th>\n",
       "    </tr>\n",
       "  </thead>\n",
       "  <tbody>\n",
       "    <tr>\n",
       "      <th>0</th>\n",
       "      <td>2</td>\n",
       "      <td>Internet</td>\n",
       "      <td>RoundTrip</td>\n",
       "      <td>262</td>\n",
       "      <td>19</td>\n",
       "      <td>7</td>\n",
       "      <td>Sat</td>\n",
       "      <td>AKLDEL</td>\n",
       "      <td>New Zealand</td>\n",
       "      <td>1</td>\n",
       "      <td>0</td>\n",
       "      <td>0</td>\n",
       "      <td>5.52</td>\n",
       "      <td>0</td>\n",
       "    </tr>\n",
       "    <tr>\n",
       "      <th>1</th>\n",
       "      <td>1</td>\n",
       "      <td>Internet</td>\n",
       "      <td>RoundTrip</td>\n",
       "      <td>112</td>\n",
       "      <td>20</td>\n",
       "      <td>3</td>\n",
       "      <td>Sat</td>\n",
       "      <td>AKLDEL</td>\n",
       "      <td>New Zealand</td>\n",
       "      <td>0</td>\n",
       "      <td>0</td>\n",
       "      <td>0</td>\n",
       "      <td>5.52</td>\n",
       "      <td>0</td>\n",
       "    </tr>\n",
       "    <tr>\n",
       "      <th>2</th>\n",
       "      <td>2</td>\n",
       "      <td>Internet</td>\n",
       "      <td>RoundTrip</td>\n",
       "      <td>243</td>\n",
       "      <td>22</td>\n",
       "      <td>17</td>\n",
       "      <td>Wed</td>\n",
       "      <td>AKLDEL</td>\n",
       "      <td>India</td>\n",
       "      <td>1</td>\n",
       "      <td>1</td>\n",
       "      <td>0</td>\n",
       "      <td>5.52</td>\n",
       "      <td>0</td>\n",
       "    </tr>\n",
       "    <tr>\n",
       "      <th>3</th>\n",
       "      <td>1</td>\n",
       "      <td>Internet</td>\n",
       "      <td>RoundTrip</td>\n",
       "      <td>96</td>\n",
       "      <td>31</td>\n",
       "      <td>4</td>\n",
       "      <td>Sat</td>\n",
       "      <td>AKLDEL</td>\n",
       "      <td>New Zealand</td>\n",
       "      <td>0</td>\n",
       "      <td>0</td>\n",
       "      <td>1</td>\n",
       "      <td>5.52</td>\n",
       "      <td>0</td>\n",
       "    </tr>\n",
       "    <tr>\n",
       "      <th>4</th>\n",
       "      <td>2</td>\n",
       "      <td>Internet</td>\n",
       "      <td>RoundTrip</td>\n",
       "      <td>68</td>\n",
       "      <td>22</td>\n",
       "      <td>15</td>\n",
       "      <td>Wed</td>\n",
       "      <td>AKLDEL</td>\n",
       "      <td>India</td>\n",
       "      <td>1</td>\n",
       "      <td>0</td>\n",
       "      <td>1</td>\n",
       "      <td>5.52</td>\n",
       "      <td>0</td>\n",
       "    </tr>\n",
       "    <tr>\n",
       "      <th>5</th>\n",
       "      <td>1</td>\n",
       "      <td>Internet</td>\n",
       "      <td>RoundTrip</td>\n",
       "      <td>3</td>\n",
       "      <td>48</td>\n",
       "      <td>20</td>\n",
       "      <td>Thu</td>\n",
       "      <td>AKLDEL</td>\n",
       "      <td>New Zealand</td>\n",
       "      <td>1</td>\n",
       "      <td>0</td>\n",
       "      <td>1</td>\n",
       "      <td>5.52</td>\n",
       "      <td>0</td>\n",
       "    </tr>\n",
       "    <tr>\n",
       "      <th>6</th>\n",
       "      <td>3</td>\n",
       "      <td>Internet</td>\n",
       "      <td>RoundTrip</td>\n",
       "      <td>201</td>\n",
       "      <td>33</td>\n",
       "      <td>6</td>\n",
       "      <td>Thu</td>\n",
       "      <td>AKLDEL</td>\n",
       "      <td>New Zealand</td>\n",
       "      <td>1</td>\n",
       "      <td>0</td>\n",
       "      <td>1</td>\n",
       "      <td>5.52</td>\n",
       "      <td>0</td>\n",
       "    </tr>\n",
       "    <tr>\n",
       "      <th>7</th>\n",
       "      <td>2</td>\n",
       "      <td>Internet</td>\n",
       "      <td>RoundTrip</td>\n",
       "      <td>238</td>\n",
       "      <td>19</td>\n",
       "      <td>14</td>\n",
       "      <td>Mon</td>\n",
       "      <td>AKLDEL</td>\n",
       "      <td>India</td>\n",
       "      <td>1</td>\n",
       "      <td>0</td>\n",
       "      <td>1</td>\n",
       "      <td>5.52</td>\n",
       "      <td>0</td>\n",
       "    </tr>\n",
       "    <tr>\n",
       "      <th>8</th>\n",
       "      <td>1</td>\n",
       "      <td>Internet</td>\n",
       "      <td>RoundTrip</td>\n",
       "      <td>80</td>\n",
       "      <td>22</td>\n",
       "      <td>4</td>\n",
       "      <td>Mon</td>\n",
       "      <td>AKLDEL</td>\n",
       "      <td>New Zealand</td>\n",
       "      <td>0</td>\n",
       "      <td>0</td>\n",
       "      <td>1</td>\n",
       "      <td>5.52</td>\n",
       "      <td>0</td>\n",
       "    </tr>\n",
       "    <tr>\n",
       "      <th>9</th>\n",
       "      <td>1</td>\n",
       "      <td>Mobile</td>\n",
       "      <td>RoundTrip</td>\n",
       "      <td>378</td>\n",
       "      <td>30</td>\n",
       "      <td>12</td>\n",
       "      <td>Sun</td>\n",
       "      <td>AKLDEL</td>\n",
       "      <td>India</td>\n",
       "      <td>0</td>\n",
       "      <td>0</td>\n",
       "      <td>0</td>\n",
       "      <td>5.52</td>\n",
       "      <td>0</td>\n",
       "    </tr>\n",
       "  </tbody>\n",
       "</table>\n",
       "</div>"
      ]
     },
     "execution_count": 2,
     "metadata": {},
     "output_type": "execute_result"
    }
   ],
   "execution_count": 2
  },
  {
   "metadata": {
    "ExecuteTime": {
     "end_time": "2024-05-03T06:39:52.572570Z",
     "start_time": "2024-05-03T06:39:52.558236Z"
    }
   },
   "cell_type": "code",
   "source": "df.info()",
   "id": "a969f00f0de8e677",
   "outputs": [
    {
     "name": "stdout",
     "output_type": "stream",
     "text": [
      "<class 'pandas.core.frame.DataFrame'>\n",
      "RangeIndex: 50000 entries, 0 to 49999\n",
      "Data columns (total 14 columns):\n",
      " #   Column                 Non-Null Count  Dtype  \n",
      "---  ------                 --------------  -----  \n",
      " 0   num_passengers         50000 non-null  int64  \n",
      " 1   sales_channel          50000 non-null  object \n",
      " 2   trip_type              50000 non-null  object \n",
      " 3   purchase_lead          50000 non-null  int64  \n",
      " 4   length_of_stay         50000 non-null  int64  \n",
      " 5   flight_hour            50000 non-null  int64  \n",
      " 6   flight_day             50000 non-null  object \n",
      " 7   route                  50000 non-null  object \n",
      " 8   booking_origin         50000 non-null  object \n",
      " 9   wants_extra_baggage    50000 non-null  int64  \n",
      " 10  wants_preferred_seat   50000 non-null  int64  \n",
      " 11  wants_in_flight_meals  50000 non-null  int64  \n",
      " 12  flight_duration        50000 non-null  float64\n",
      " 13  booking_complete       50000 non-null  int64  \n",
      "dtypes: float64(1), int64(8), object(5)\n",
      "memory usage: 5.3+ MB\n"
     ]
    }
   ],
   "execution_count": 3
  },
  {
   "metadata": {},
   "cell_type": "markdown",
   "source": "Hiç null veri bulunmuyor bu yüzden herhangi bir düzenleme yapmamıza gerek yok sadece kategorisel verileri ML için uygun hale getirebiliriz.",
   "id": "abd523e01bba1164"
  },
  {
   "metadata": {
    "ExecuteTime": {
     "end_time": "2024-05-03T06:39:52.989434Z",
     "start_time": "2024-05-03T06:39:52.980385Z"
    }
   },
   "cell_type": "code",
   "source": "df.head(4)",
   "id": "f5785ea2d512f581",
   "outputs": [
    {
     "data": {
      "text/plain": [
       "   num_passengers sales_channel  trip_type  purchase_lead  length_of_stay  \\\n",
       "0               2      Internet  RoundTrip            262              19   \n",
       "1               1      Internet  RoundTrip            112              20   \n",
       "2               2      Internet  RoundTrip            243              22   \n",
       "3               1      Internet  RoundTrip             96              31   \n",
       "\n",
       "   flight_hour flight_day   route booking_origin  wants_extra_baggage  \\\n",
       "0            7        Sat  AKLDEL    New Zealand                    1   \n",
       "1            3        Sat  AKLDEL    New Zealand                    0   \n",
       "2           17        Wed  AKLDEL          India                    1   \n",
       "3            4        Sat  AKLDEL    New Zealand                    0   \n",
       "\n",
       "   wants_preferred_seat  wants_in_flight_meals  flight_duration  \\\n",
       "0                     0                      0             5.52   \n",
       "1                     0                      0             5.52   \n",
       "2                     1                      0             5.52   \n",
       "3                     0                      1             5.52   \n",
       "\n",
       "   booking_complete  \n",
       "0                 0  \n",
       "1                 0  \n",
       "2                 0  \n",
       "3                 0  "
      ],
      "text/html": [
       "<div>\n",
       "<style scoped>\n",
       "    .dataframe tbody tr th:only-of-type {\n",
       "        vertical-align: middle;\n",
       "    }\n",
       "\n",
       "    .dataframe tbody tr th {\n",
       "        vertical-align: top;\n",
       "    }\n",
       "\n",
       "    .dataframe thead th {\n",
       "        text-align: right;\n",
       "    }\n",
       "</style>\n",
       "<table border=\"1\" class=\"dataframe\">\n",
       "  <thead>\n",
       "    <tr style=\"text-align: right;\">\n",
       "      <th></th>\n",
       "      <th>num_passengers</th>\n",
       "      <th>sales_channel</th>\n",
       "      <th>trip_type</th>\n",
       "      <th>purchase_lead</th>\n",
       "      <th>length_of_stay</th>\n",
       "      <th>flight_hour</th>\n",
       "      <th>flight_day</th>\n",
       "      <th>route</th>\n",
       "      <th>booking_origin</th>\n",
       "      <th>wants_extra_baggage</th>\n",
       "      <th>wants_preferred_seat</th>\n",
       "      <th>wants_in_flight_meals</th>\n",
       "      <th>flight_duration</th>\n",
       "      <th>booking_complete</th>\n",
       "    </tr>\n",
       "  </thead>\n",
       "  <tbody>\n",
       "    <tr>\n",
       "      <th>0</th>\n",
       "      <td>2</td>\n",
       "      <td>Internet</td>\n",
       "      <td>RoundTrip</td>\n",
       "      <td>262</td>\n",
       "      <td>19</td>\n",
       "      <td>7</td>\n",
       "      <td>Sat</td>\n",
       "      <td>AKLDEL</td>\n",
       "      <td>New Zealand</td>\n",
       "      <td>1</td>\n",
       "      <td>0</td>\n",
       "      <td>0</td>\n",
       "      <td>5.52</td>\n",
       "      <td>0</td>\n",
       "    </tr>\n",
       "    <tr>\n",
       "      <th>1</th>\n",
       "      <td>1</td>\n",
       "      <td>Internet</td>\n",
       "      <td>RoundTrip</td>\n",
       "      <td>112</td>\n",
       "      <td>20</td>\n",
       "      <td>3</td>\n",
       "      <td>Sat</td>\n",
       "      <td>AKLDEL</td>\n",
       "      <td>New Zealand</td>\n",
       "      <td>0</td>\n",
       "      <td>0</td>\n",
       "      <td>0</td>\n",
       "      <td>5.52</td>\n",
       "      <td>0</td>\n",
       "    </tr>\n",
       "    <tr>\n",
       "      <th>2</th>\n",
       "      <td>2</td>\n",
       "      <td>Internet</td>\n",
       "      <td>RoundTrip</td>\n",
       "      <td>243</td>\n",
       "      <td>22</td>\n",
       "      <td>17</td>\n",
       "      <td>Wed</td>\n",
       "      <td>AKLDEL</td>\n",
       "      <td>India</td>\n",
       "      <td>1</td>\n",
       "      <td>1</td>\n",
       "      <td>0</td>\n",
       "      <td>5.52</td>\n",
       "      <td>0</td>\n",
       "    </tr>\n",
       "    <tr>\n",
       "      <th>3</th>\n",
       "      <td>1</td>\n",
       "      <td>Internet</td>\n",
       "      <td>RoundTrip</td>\n",
       "      <td>96</td>\n",
       "      <td>31</td>\n",
       "      <td>4</td>\n",
       "      <td>Sat</td>\n",
       "      <td>AKLDEL</td>\n",
       "      <td>New Zealand</td>\n",
       "      <td>0</td>\n",
       "      <td>0</td>\n",
       "      <td>1</td>\n",
       "      <td>5.52</td>\n",
       "      <td>0</td>\n",
       "    </tr>\n",
       "  </tbody>\n",
       "</table>\n",
       "</div>"
      ]
     },
     "execution_count": 4,
     "metadata": {},
     "output_type": "execute_result"
    }
   ],
   "execution_count": 4
  },
  {
   "metadata": {},
   "cell_type": "markdown",
   "source": [
    "df['route'].unique().__len__()\n",
    "\n",
    "\n",
    "OUTPUT : 799 Görüldüğü gibi çok fazla benzersiz değer var bunlara tahmin etmek istediğim zaman daha kolay ulaşabilemek adına OneHotEncoding Kullanacağım."
   ],
   "id": "c80e049024d96f0a"
  },
  {
   "metadata": {
    "ExecuteTime": {
     "end_time": "2024-05-03T06:39:53.537368Z",
     "start_time": "2024-05-03T06:39:53.452648Z"
    }
   },
   "cell_type": "code",
   "source": [
    "ohe=OneHotEncoder()\n",
    "ohed=ohe.fit_transform(df[['sales_channel','trip_type','flight_day','route','booking_origin']]).toarray()"
   ],
   "id": "d7fc18f20c0f219d",
   "outputs": [],
   "execution_count": 5
  },
  {
   "metadata": {
    "ExecuteTime": {
     "end_time": "2024-05-03T06:39:55.558810Z",
     "start_time": "2024-05-03T06:39:55.552407Z"
    }
   },
   "cell_type": "code",
   "source": "ohe.get_feature_names_out()",
   "id": "94034a08c2eba6bd",
   "outputs": [
    {
     "data": {
      "text/plain": [
       "array(['sales_channel_Internet', 'sales_channel_Mobile',\n",
       "       'trip_type_CircleTrip', 'trip_type_OneWay', 'trip_type_RoundTrip',\n",
       "       'flight_day_Fri', 'flight_day_Mon', 'flight_day_Sat',\n",
       "       'flight_day_Sun', 'flight_day_Thu', 'flight_day_Tue',\n",
       "       'flight_day_Wed', 'route_AKLDEL', 'route_AKLHGH', 'route_AKLHND',\n",
       "       'route_AKLICN', 'route_AKLKIX', 'route_AKLKTM', 'route_AKLKUL',\n",
       "       'route_AKLMRU', 'route_AKLPEK', 'route_AKLPVG', 'route_AKLTPE',\n",
       "       'route_AORICN', 'route_AORKIX', 'route_AORKTM', 'route_AORMEL',\n",
       "       'route_AORPER', 'route_AORPUS', 'route_BBIMEL', 'route_BBIOOL',\n",
       "       'route_BBIPER', 'route_BBISYD', 'route_BDOCTS', 'route_BDOCTU',\n",
       "       'route_BDOHGH', 'route_BDOICN', 'route_BDOIKA', 'route_BDOKIX',\n",
       "       'route_BDOMEL', 'route_BDOOOL', 'route_BDOPEK', 'route_BDOPER',\n",
       "       'route_BDOPUS', 'route_BDOPVG', 'route_BDOSYD', 'route_BDOTPE',\n",
       "       'route_BDOWUH', 'route_BDOXIY', 'route_BKICKG', 'route_BKICTS',\n",
       "       'route_BKICTU', 'route_BKIDEL', 'route_BKIHND', 'route_BKIICN',\n",
       "       'route_BKIKIX', 'route_BKIKTM', 'route_BKIMEL', 'route_BKIMRU',\n",
       "       'route_BKIOOL', 'route_BKIPEK', 'route_BKIPER', 'route_BKIPUS',\n",
       "       'route_BKIPVG', 'route_BKISYD', 'route_BKIXIY', 'route_BLRICN',\n",
       "       'route_BLRMEL', 'route_BLRPER', 'route_BLRSYD', 'route_BOMMEL',\n",
       "       'route_BOMOOL', 'route_BOMPER', 'route_BOMSYD', 'route_BTJJED',\n",
       "       'route_BTUCKG', 'route_BTUICN', 'route_BTUPER', 'route_BTUSYD',\n",
       "       'route_BTUWUH', 'route_BWNCKG', 'route_BWNDEL', 'route_BWNHGH',\n",
       "       'route_BWNIKA', 'route_BWNKTM', 'route_BWNMEL', 'route_BWNOOL',\n",
       "       'route_BWNPER', 'route_BWNSYD', 'route_BWNTPE', 'route_BWNWUH',\n",
       "       'route_CANDEL', 'route_CANIKA', 'route_CANMEL', 'route_CANMRU',\n",
       "       'route_CANOOL', 'route_CANPER', 'route_CANSYD', 'route_CCUMEL',\n",
       "       'route_CCUMRU', 'route_CCUOOL', 'route_CCUPER', 'route_CCUSYD',\n",
       "       'route_CCUTPE', 'route_CEBMEL', 'route_CEBOOL', 'route_CEBPER',\n",
       "       'route_CEBSYD', 'route_CGKCKG', 'route_CGKCTS', 'route_CGKCTU',\n",
       "       'route_CGKDEL', 'route_CGKHGH', 'route_CGKHND', 'route_CGKICN',\n",
       "       'route_CGKIKA', 'route_CGKJED', 'route_CGKKIX', 'route_CGKKTM',\n",
       "       'route_CGKMEL', 'route_CGKMRU', 'route_CGKOOL', 'route_CGKPEK',\n",
       "       'route_CGKPER', 'route_CGKPUS', 'route_CGKPVG', 'route_CGKSYD',\n",
       "       'route_CGKTPE', 'route_CGKWUH', 'route_CGKXIY', 'route_CKGCOK',\n",
       "       'route_CKGDPS', 'route_CKGHKT', 'route_CKGJHB', 'route_CKGKCH',\n",
       "       'route_CKGKNO', 'route_CKGLGK', 'route_CKGLOP', 'route_CKGMAA',\n",
       "       'route_CKGMEL', 'route_CKGMRU', 'route_CKGMYY', 'route_CKGOOL',\n",
       "       'route_CKGPEN', 'route_CKGPER', 'route_CKGPNH', 'route_CKGSBW',\n",
       "       'route_CKGSGN', 'route_CKGSIN', 'route_CKGSUB', 'route_CKGSYD',\n",
       "       'route_CKGTGG', 'route_CKGTRZ', 'route_CKGTWU', 'route_CMBCTS',\n",
       "       'route_CMBCTU', 'route_CMBHGH', 'route_CMBHND', 'route_CMBICN',\n",
       "       'route_CMBKIX', 'route_CMBMEL', 'route_CMBMRU', 'route_CMBOOL',\n",
       "       'route_CMBPEK', 'route_CMBPER', 'route_CMBPVG', 'route_CMBSYD',\n",
       "       'route_CMBWUH', 'route_CNXDEL', 'route_CNXHND', 'route_CNXICN',\n",
       "       'route_CNXKIX', 'route_CNXMEL', 'route_CNXOOL', 'route_CNXPEK',\n",
       "       'route_CNXPER', 'route_CNXPUS', 'route_CNXPVG', 'route_CNXSYD',\n",
       "       'route_CNXTPE', 'route_CNXXIY', 'route_COKCTS', 'route_COKCTU',\n",
       "       'route_COKHGH', 'route_COKICN', 'route_COKKIX', 'route_COKMEL',\n",
       "       'route_COKOOL', 'route_COKPER', 'route_COKPUS', 'route_COKSYD',\n",
       "       'route_COKTPE', 'route_COKWUH', 'route_CRKMEL', 'route_CRKOOL',\n",
       "       'route_CRKSYD', 'route_CSXMRU', 'route_CSXPER', 'route_CSXSYD',\n",
       "       'route_CTSDMK', 'route_CTSDPS', 'route_CTSHKT', 'route_CTSJHB',\n",
       "       'route_CTSJOG', 'route_CTSKBR', 'route_CTSKCH', 'route_CTSKNO',\n",
       "       'route_CTSLGK', 'route_CTSMEL', 'route_CTSMYY', 'route_CTSOOL',\n",
       "       'route_CTSPEN', 'route_CTSPER', 'route_CTSSBW', 'route_CTSSGN',\n",
       "       'route_CTSSIN', 'route_CTSSUB', 'route_CTSSYD', 'route_CTUDMK',\n",
       "       'route_CTUDPS', 'route_CTUHKT', 'route_CTUIKA', 'route_CTUJHB',\n",
       "       'route_CTUKBR', 'route_CTUKBV', 'route_CTUKCH', 'route_CTUKNO',\n",
       "       'route_CTULGK', 'route_CTULOP', 'route_CTUMAA', 'route_CTUMEL',\n",
       "       'route_CTUMLE', 'route_CTUMRU', 'route_CTUMYY', 'route_CTUOOL',\n",
       "       'route_CTUPEN', 'route_CTUPER', 'route_CTUREP', 'route_CTUSBW',\n",
       "       'route_CTUSGN', 'route_CTUSIN', 'route_CTUSRG', 'route_CTUSUB',\n",
       "       'route_CTUSYD', 'route_CTUTGG', 'route_CTUTRZ', 'route_CTUTWU',\n",
       "       'route_CTUURT', 'route_CXRMEL', 'route_DACHGH', 'route_DACHND',\n",
       "       'route_DACICN', 'route_DACKIX', 'route_DACMEL', 'route_DACMRU',\n",
       "       'route_DACOOL', 'route_DACPEK', 'route_DACPER', 'route_DACPUS',\n",
       "       'route_DACSYD', 'route_DACTPE', 'route_DADMEL', 'route_DADOOL',\n",
       "       'route_DADSYD', 'route_DELDMK', 'route_DELDPS', 'route_DELHKG',\n",
       "       'route_DELHKT', 'route_DELHND', 'route_DELJHB', 'route_DELJOG',\n",
       "       'route_DELKBR', 'route_DELKBV', 'route_DELKCH', 'route_DELKIX',\n",
       "       'route_DELKNO', 'route_DELLGK', 'route_DELMEL', 'route_DELMFM',\n",
       "       'route_DELMNL', 'route_DELMRU', 'route_DELMYY', 'route_DELOOL',\n",
       "       'route_DELPEN', 'route_DELPER', 'route_DELPNH', 'route_DELREP',\n",
       "       'route_DELRGN', 'route_DELSBW', 'route_DELSGN', 'route_DELSIN',\n",
       "       'route_DELSUB', 'route_DELSYD', 'route_DELSZX', 'route_DELURT',\n",
       "       'route_DMKHGH', 'route_DMKHND', 'route_DMKICN', 'route_DMKIKA',\n",
       "       'route_DMKKIX', 'route_DMKKTM', 'route_DMKMEL', 'route_DMKMRU',\n",
       "       'route_DMKOOL', 'route_DMKPEK', 'route_DMKPER', 'route_DMKPUS',\n",
       "       'route_DMKPVG', 'route_DMKSYD', 'route_DMKTPE', 'route_DPSHGH',\n",
       "       'route_DPSHND', 'route_DPSICN', 'route_DPSIKA', 'route_DPSKIX',\n",
       "       'route_DPSKTM', 'route_DPSMEL', 'route_DPSMRU', 'route_DPSOOL',\n",
       "       'route_DPSPEK', 'route_DPSPUS', 'route_DPSPVG', 'route_DPSSYD',\n",
       "       'route_DPSTPE', 'route_DPSWUH', 'route_DPSXIY', 'route_GOIKUL',\n",
       "       'route_GOIMEL', 'route_GOIOOL', 'route_GOIPER', 'route_GOISYD',\n",
       "       'route_HANKTM', 'route_HANMEL', 'route_HANOOL', 'route_HANPER',\n",
       "       'route_HANSYD', 'route_HDYHGH', 'route_HDYKIX', 'route_HDYKTM',\n",
       "       'route_HDYMEL', 'route_HDYOOL', 'route_HDYPEK', 'route_HDYPER',\n",
       "       'route_HDYPVG', 'route_HDYSYD', 'route_HDYTPE', 'route_HDYXIY',\n",
       "       'route_HGHHKT', 'route_HGHJHB', 'route_HGHJOG', 'route_HGHKBR',\n",
       "       'route_HGHKBV', 'route_HGHKCH', 'route_HGHKNO', 'route_HGHLGK',\n",
       "       'route_HGHLOP', 'route_HGHMAA', 'route_HGHMEL', 'route_HGHMRU',\n",
       "       'route_HGHMYY', 'route_HGHOOL', 'route_HGHPEN', 'route_HGHPER',\n",
       "       'route_HGHSBW', 'route_HGHSGN', 'route_HGHSIN', 'route_HGHSUB',\n",
       "       'route_HGHSYD', 'route_HGHTGG', 'route_HGHTRZ', 'route_HGHTWU',\n",
       "       'route_HKGIKA', 'route_HKGJED', 'route_HKGKTM', 'route_HKGMEL',\n",
       "       'route_HKGMRU', 'route_HKGOOL', 'route_HKGPER', 'route_HKGSYD',\n",
       "       'route_HKTHND', 'route_HKTICN', 'route_HKTIKA', 'route_HKTJED',\n",
       "       'route_HKTKIX', 'route_HKTKTM', 'route_HKTMEL', 'route_HKTMRU',\n",
       "       'route_HKTOOL', 'route_HKTPEK', 'route_HKTPER', 'route_HKTPUS',\n",
       "       'route_HKTPVG', 'route_HKTSYD', 'route_HKTTPE', 'route_HKTWUH',\n",
       "       'route_HKTXIY', 'route_HNDIKA', 'route_HNDJOG', 'route_HNDKBR',\n",
       "       'route_HNDKBV', 'route_HNDKCH', 'route_HNDKNO', 'route_HNDKTM',\n",
       "       'route_HNDLGK', 'route_HNDLOP', 'route_HNDMAA', 'route_HNDMEL',\n",
       "       'route_HNDMLE', 'route_HNDOOL', 'route_HNDPEN', 'route_HNDPER',\n",
       "       'route_HNDPNH', 'route_HNDREP', 'route_HNDRGN', 'route_HNDSBW',\n",
       "       'route_HNDSGN', 'route_HNDSIN', 'route_HNDSUB', 'route_HNDSYD',\n",
       "       'route_HNDTRZ', 'route_HYDMEL', 'route_HYDMRU', 'route_HYDOOL',\n",
       "       'route_HYDPER', 'route_HYDSYD', 'route_HYDWUH', 'route_ICNIKA',\n",
       "       'route_ICNJED', 'route_ICNJHB', 'route_ICNKBR', 'route_ICNKBV',\n",
       "       'route_ICNKCH', 'route_ICNKNO', 'route_ICNKTM', 'route_ICNLGK',\n",
       "       'route_ICNMAA', 'route_ICNMEL', 'route_ICNMLE', 'route_ICNMRU',\n",
       "       'route_ICNMYY', 'route_ICNOOL', 'route_ICNPEN', 'route_ICNPER',\n",
       "       'route_ICNREP', 'route_ICNRGN', 'route_ICNSBW', 'route_ICNSDK',\n",
       "       'route_ICNSGN', 'route_ICNSIN', 'route_ICNSUB', 'route_ICNSYD',\n",
       "       'route_ICNTGG', 'route_ICNTRZ', 'route_ICNVTE', 'route_ICNVTZ',\n",
       "       'route_IKAKCH', 'route_IKAKIX', 'route_IKALOP', 'route_IKAMEL',\n",
       "       'route_IKAMFM', 'route_IKAMNL', 'route_IKAOOL', 'route_IKAPEK',\n",
       "       'route_IKAPEN', 'route_IKAPER', 'route_IKAPUS', 'route_IKAPVG',\n",
       "       'route_IKASGN', 'route_IKASIN', 'route_IKASUB', 'route_IKASYD',\n",
       "       'route_IKASZX', 'route_IKATPE', 'route_JEDJOG', 'route_JEDKNO',\n",
       "       'route_JEDMEL', 'route_JEDMFM', 'route_JEDMNL', 'route_JEDPDG',\n",
       "       'route_JEDPEN', 'route_JEDSUB', 'route_JHBKIX', 'route_JHBKTM',\n",
       "       'route_JHBMEL', 'route_JHBMRU', 'route_JHBOOL', 'route_JHBPEK',\n",
       "       'route_JHBPUS', 'route_JHBPVG', 'route_JHBSYD', 'route_JHBTPE',\n",
       "       'route_JHBWUH', 'route_JHBXIY', 'route_JOGKIX', 'route_JOGKTM',\n",
       "       'route_JOGMEL', 'route_JOGOOL', 'route_JOGPER', 'route_JOGPVG',\n",
       "       'route_JOGSYD', 'route_JOGTPE', 'route_KBRKIX', 'route_KBRKTM',\n",
       "       'route_KBRMEL', 'route_KBROOL', 'route_KBRPEK', 'route_KBRPER',\n",
       "       'route_KBRPUS', 'route_KBRPVG', 'route_KBRSYD', 'route_KBRTPE',\n",
       "       'route_KBRWUH', 'route_KBRXIY', 'route_KBVKIX', 'route_KBVKTM',\n",
       "       'route_KBVMEL', 'route_KBVOOL', 'route_KBVPEK', 'route_KBVPER',\n",
       "       'route_KBVPUS', 'route_KBVPVG', 'route_KBVSYD', 'route_KBVTPE',\n",
       "       'route_KBVWUH', 'route_KBVXIY', 'route_KCHKIX', 'route_KCHKTM',\n",
       "       'route_KCHMEL', 'route_KCHMRU', 'route_KCHOOL', 'route_KCHPEK',\n",
       "       'route_KCHPER', 'route_KCHPUS', 'route_KCHPVG', 'route_KCHSYD',\n",
       "       'route_KCHTPE', 'route_KCHWUH', 'route_KCHXIY', 'route_KHHMEL',\n",
       "       'route_KHHOOL', 'route_KHHPER', 'route_KHHSYD', 'route_KIXKNO',\n",
       "       'route_KIXKTM', 'route_KIXLBU', 'route_KIXLGK', 'route_KIXLOP',\n",
       "       'route_KIXLPQ', 'route_KIXMAA', 'route_KIXMEL', 'route_KIXMLE',\n",
       "       'route_KIXMRU', 'route_KIXMYY', 'route_KIXOOL', 'route_KIXPEN',\n",
       "       'route_KIXPER', 'route_KIXPNH', 'route_KIXREP', 'route_KIXRGN',\n",
       "       'route_KIXSBW', 'route_KIXSGN', 'route_KIXSIN', 'route_KIXSUB',\n",
       "       'route_KIXSYD', 'route_KIXTGG', 'route_KIXTRZ', 'route_KIXTWU',\n",
       "       'route_KLOMEL', 'route_KLOOOL', 'route_KLOSYD', 'route_KNOKTM',\n",
       "       'route_KNOMEL', 'route_KNOOOL', 'route_KNOPEK', 'route_KNOPER',\n",
       "       'route_KNOPUS', 'route_KNOPVG', 'route_KNOSYD', 'route_KNOTPE',\n",
       "       'route_KNOWUH', 'route_KNOXIY', 'route_KOSMEL', 'route_KOSOOL',\n",
       "       'route_KOSPEK', 'route_KOSSYD', 'route_KTMMEL', 'route_KTMMFM',\n",
       "       'route_KTMMYY', 'route_KTMPEN', 'route_KTMPER', 'route_KTMREP',\n",
       "       'route_KTMSGN', 'route_KTMSIN', 'route_KTMSUB', 'route_KTMSYD',\n",
       "       'route_KTMTGG', 'route_KTMTPE', 'route_KTMTWU', 'route_KTMURT',\n",
       "       'route_KWLPER', 'route_LBUPER', 'route_LBUTPE', 'route_LGKMEL',\n",
       "       'route_LGKOOL', 'route_LGKPEK', 'route_LGKPER', 'route_LGKPUS',\n",
       "       'route_LGKPVG', 'route_LGKSYD', 'route_LGKTPE', 'route_LGKWUH',\n",
       "       'route_LGKXIY', 'route_LOPOOL', 'route_LOPPEK', 'route_LOPPER',\n",
       "       'route_LOPPVG', 'route_LOPSYD', 'route_LOPTPE', 'route_LOPXIY',\n",
       "       'route_LPQMEL', 'route_LPQOOL', 'route_LPQPER', 'route_LPQTPE',\n",
       "       'route_MAAMEL', 'route_MAAMRU', 'route_MAAOOL', 'route_MAAPER',\n",
       "       'route_MAAPVG', 'route_MAASYD', 'route_MAATPE', 'route_MAAWUH',\n",
       "       'route_MELMFM', 'route_MELMLE', 'route_MELMNL', 'route_MELMRU',\n",
       "       'route_MELMYY', 'route_MELNRT', 'route_MELPEK', 'route_MELPEN',\n",
       "       'route_MELPNH', 'route_MELPUS', 'route_MELPVG', 'route_MELREP',\n",
       "       'route_MELRGN', 'route_MELSBW', 'route_MELSGN', 'route_MELSIN',\n",
       "       'route_MELSUB', 'route_MELSWA', 'route_MELSZX', 'route_MELTGG',\n",
       "       'route_MELTPE', 'route_MELTRZ', 'route_MELTWU', 'route_MELURT',\n",
       "       'route_MELUTP', 'route_MELVTE', 'route_MELVTZ', 'route_MELWUH',\n",
       "       'route_MELXIY', 'route_MFMOOL', 'route_MFMPER', 'route_MFMSYD',\n",
       "       'route_MLEOOL', 'route_MLEPEK', 'route_MLEPER', 'route_MLEPVG',\n",
       "       'route_MLESYD', 'route_MLETPE', 'route_MNLMRU', 'route_MNLOOL',\n",
       "       'route_MNLPER', 'route_MNLSYD', 'route_MRUOOL', 'route_MRUPEK',\n",
       "       'route_MRUPEN', 'route_MRUPER', 'route_MRUPVG', 'route_MRUSGN',\n",
       "       'route_MRUSIN', 'route_MRUSUB', 'route_MRUSYD', 'route_MRUSZX',\n",
       "       'route_MRUTPE', 'route_MRUXIY', 'route_MYYOOL', 'route_MYYPER',\n",
       "       'route_MYYPUS', 'route_MYYSYD', 'route_MYYXIY', 'route_NRTSYD',\n",
       "       'route_OOLPEK', 'route_OOLPEN', 'route_OOLPNH', 'route_OOLPUS',\n",
       "       'route_OOLPVG', 'route_OOLREP', 'route_OOLRGN', 'route_OOLSBW',\n",
       "       'route_OOLSDK', 'route_OOLSGN', 'route_OOLSIN', 'route_OOLSUB',\n",
       "       'route_OOLSZX', 'route_OOLTGG', 'route_OOLTPE', 'route_OOLTRZ',\n",
       "       'route_OOLTWU', 'route_OOLURT', 'route_OOLUTP', 'route_OOLVTE',\n",
       "       'route_OOLWUH', 'route_OOLXIY', 'route_PEKPEN', 'route_PEKPER',\n",
       "       'route_PEKREP', 'route_PEKRGN', 'route_PEKSBW', 'route_PEKSGN',\n",
       "       'route_PEKSIN', 'route_PEKSUB', 'route_PEKSYD', 'route_PEKTGG',\n",
       "       'route_PEKTRZ', 'route_PEKTWU', 'route_PENPER', 'route_PENPUS',\n",
       "       'route_PENPVG', 'route_PENSYD', 'route_PENTPE', 'route_PENWUH',\n",
       "       'route_PENXIY', 'route_PERPNH', 'route_PERPUS', 'route_PERPVG',\n",
       "       'route_PERREP', 'route_PERRGN', 'route_PERSBW', 'route_PERSDK',\n",
       "       'route_PERSGN', 'route_PERSIN', 'route_PERSUB', 'route_PERSWA',\n",
       "       'route_PERSZX', 'route_PERTGG', 'route_PERTPE', 'route_PERTRZ',\n",
       "       'route_PERTWU', 'route_PERUTP', 'route_PERVTE', 'route_PERVTZ',\n",
       "       'route_PERWUH', 'route_PERXIY', 'route_PNHSYD', 'route_PNHTPE',\n",
       "       'route_PNKTPE', 'route_PUSRGN', 'route_PUSSBW', 'route_PUSSGN',\n",
       "       'route_PUSSIN', 'route_PUSSUB', 'route_PUSSYD', 'route_PUSTRZ',\n",
       "       'route_PVGREP', 'route_PVGRGN', 'route_PVGSGN', 'route_PVGSIN',\n",
       "       'route_PVGSUB', 'route_PVGSYD', 'route_PVGTGG', 'route_PVGTWU',\n",
       "       'route_PVGURT', 'route_REPSYD', 'route_REPTPE', 'route_RGNSYD',\n",
       "       'route_RGNTPE', 'route_SBWSYD', 'route_SBWTPE', 'route_SBWWUH',\n",
       "       'route_SBWXIY', 'route_SDKSYD', 'route_SDKTPE', 'route_SGNSYD',\n",
       "       'route_SGNXIY', 'route_SINSYD', 'route_SINTPE', 'route_SINWUH',\n",
       "       'route_SINXIY', 'route_SRGTPE', 'route_SUBSYD', 'route_SUBTPE',\n",
       "       'route_SUBWUH', 'route_SUBXIY', 'route_SYDSZX', 'route_SYDTPE',\n",
       "       'route_SYDTRZ', 'route_SYDTWU', 'route_SYDVTE', 'route_SYDVTZ',\n",
       "       'route_SYDXIY', 'route_TGGTPE', 'route_TGGXIY', 'route_TPETRZ',\n",
       "       'route_TPETWU', 'route_TPEURT', 'route_TPEVTE', 'route_TRZWUH',\n",
       "       'route_TRZXIY', 'route_TWUWUH', 'route_TWUXIY', 'route_URTXIY',\n",
       "       'booking_origin_(not set)', 'booking_origin_Afghanistan',\n",
       "       'booking_origin_Algeria', 'booking_origin_Argentina',\n",
       "       'booking_origin_Australia', 'booking_origin_Austria',\n",
       "       'booking_origin_Bahrain', 'booking_origin_Bangladesh',\n",
       "       'booking_origin_Belarus', 'booking_origin_Belgium',\n",
       "       'booking_origin_Bhutan', 'booking_origin_Brazil',\n",
       "       'booking_origin_Brunei', 'booking_origin_Bulgaria',\n",
       "       'booking_origin_Cambodia', 'booking_origin_Canada',\n",
       "       'booking_origin_Chile', 'booking_origin_China',\n",
       "       'booking_origin_Colombia', 'booking_origin_Croatia',\n",
       "       'booking_origin_Cyprus', 'booking_origin_Czech Republic',\n",
       "       'booking_origin_Czechia', 'booking_origin_Denmark',\n",
       "       'booking_origin_Egypt', 'booking_origin_Estonia',\n",
       "       'booking_origin_Finland', 'booking_origin_France',\n",
       "       'booking_origin_Germany', 'booking_origin_Ghana',\n",
       "       'booking_origin_Gibraltar', 'booking_origin_Greece',\n",
       "       'booking_origin_Guam', 'booking_origin_Guatemala',\n",
       "       'booking_origin_Hong Kong', 'booking_origin_Hungary',\n",
       "       'booking_origin_India', 'booking_origin_Indonesia',\n",
       "       'booking_origin_Iran', 'booking_origin_Iraq',\n",
       "       'booking_origin_Ireland', 'booking_origin_Israel',\n",
       "       'booking_origin_Italy', 'booking_origin_Japan',\n",
       "       'booking_origin_Jordan', 'booking_origin_Kazakhstan',\n",
       "       'booking_origin_Kenya', 'booking_origin_Kuwait',\n",
       "       'booking_origin_Laos', 'booking_origin_Lebanon',\n",
       "       'booking_origin_Macau', 'booking_origin_Malaysia',\n",
       "       'booking_origin_Maldives', 'booking_origin_Malta',\n",
       "       'booking_origin_Mauritius', 'booking_origin_Mexico',\n",
       "       'booking_origin_Mongolia', 'booking_origin_Myanmar (Burma)',\n",
       "       'booking_origin_Nepal', 'booking_origin_Netherlands',\n",
       "       'booking_origin_New Caledonia', 'booking_origin_New Zealand',\n",
       "       'booking_origin_Nicaragua', 'booking_origin_Norfolk Island',\n",
       "       'booking_origin_Norway', 'booking_origin_Oman',\n",
       "       'booking_origin_Pakistan', 'booking_origin_Panama',\n",
       "       'booking_origin_Papua New Guinea', 'booking_origin_Paraguay',\n",
       "       'booking_origin_Peru', 'booking_origin_Philippines',\n",
       "       'booking_origin_Poland', 'booking_origin_Portugal',\n",
       "       'booking_origin_Qatar', 'booking_origin_Romania',\n",
       "       'booking_origin_Russia', 'booking_origin_R\\x82union',\n",
       "       'booking_origin_Saudi Arabia', 'booking_origin_Seychelles',\n",
       "       'booking_origin_Singapore', 'booking_origin_Slovakia',\n",
       "       'booking_origin_Slovenia', 'booking_origin_Solomon Islands',\n",
       "       'booking_origin_South Africa', 'booking_origin_South Korea',\n",
       "       'booking_origin_Spain', 'booking_origin_Sri Lanka',\n",
       "       'booking_origin_Svalbard & Jan Mayen', 'booking_origin_Sweden',\n",
       "       'booking_origin_Switzerland', 'booking_origin_Taiwan',\n",
       "       'booking_origin_Tanzania', 'booking_origin_Thailand',\n",
       "       'booking_origin_Timor-Leste', 'booking_origin_Tonga',\n",
       "       'booking_origin_Tunisia', 'booking_origin_Turkey',\n",
       "       'booking_origin_Ukraine', 'booking_origin_United Arab Emirates',\n",
       "       'booking_origin_United Kingdom', 'booking_origin_United States',\n",
       "       'booking_origin_Vanuatu', 'booking_origin_Vietnam'], dtype=object)"
      ]
     },
     "execution_count": 6,
     "metadata": {},
     "output_type": "execute_result"
    }
   ],
   "execution_count": 6
  },
  {
   "metadata": {},
   "cell_type": "markdown",
   "source": "Şimdi bunları veri setine eklemek için bir dataframe ekleyeceğim",
   "id": "708ea8684f16a5b0"
  },
  {
   "metadata": {
    "ExecuteTime": {
     "end_time": "2024-05-03T06:39:58.166893Z",
     "start_time": "2024-05-03T06:39:58.150432Z"
    }
   },
   "cell_type": "code",
   "source": [
    "ohed = pd.DataFrame(ohed,columns=ohe.get_feature_names_out())\n",
    "ohed.head()"
   ],
   "id": "d3a995339a16687a",
   "outputs": [
    {
     "data": {
      "text/plain": [
       "   sales_channel_Internet  sales_channel_Mobile  trip_type_CircleTrip  \\\n",
       "0                     1.0                   0.0                   0.0   \n",
       "1                     1.0                   0.0                   0.0   \n",
       "2                     1.0                   0.0                   0.0   \n",
       "3                     1.0                   0.0                   0.0   \n",
       "4                     1.0                   0.0                   0.0   \n",
       "\n",
       "   trip_type_OneWay  trip_type_RoundTrip  flight_day_Fri  flight_day_Mon  \\\n",
       "0               0.0                  1.0             0.0             0.0   \n",
       "1               0.0                  1.0             0.0             0.0   \n",
       "2               0.0                  1.0             0.0             0.0   \n",
       "3               0.0                  1.0             0.0             0.0   \n",
       "4               0.0                  1.0             0.0             0.0   \n",
       "\n",
       "   flight_day_Sat  flight_day_Sun  flight_day_Thu  ...  \\\n",
       "0             1.0             0.0             0.0  ...   \n",
       "1             1.0             0.0             0.0  ...   \n",
       "2             0.0             0.0             0.0  ...   \n",
       "3             1.0             0.0             0.0  ...   \n",
       "4             0.0             0.0             0.0  ...   \n",
       "\n",
       "   booking_origin_Timor-Leste  booking_origin_Tonga  booking_origin_Tunisia  \\\n",
       "0                         0.0                   0.0                     0.0   \n",
       "1                         0.0                   0.0                     0.0   \n",
       "2                         0.0                   0.0                     0.0   \n",
       "3                         0.0                   0.0                     0.0   \n",
       "4                         0.0                   0.0                     0.0   \n",
       "\n",
       "   booking_origin_Turkey  booking_origin_Ukraine  \\\n",
       "0                    0.0                     0.0   \n",
       "1                    0.0                     0.0   \n",
       "2                    0.0                     0.0   \n",
       "3                    0.0                     0.0   \n",
       "4                    0.0                     0.0   \n",
       "\n",
       "   booking_origin_United Arab Emirates  booking_origin_United Kingdom  \\\n",
       "0                                  0.0                            0.0   \n",
       "1                                  0.0                            0.0   \n",
       "2                                  0.0                            0.0   \n",
       "3                                  0.0                            0.0   \n",
       "4                                  0.0                            0.0   \n",
       "\n",
       "   booking_origin_United States  booking_origin_Vanuatu  \\\n",
       "0                           0.0                     0.0   \n",
       "1                           0.0                     0.0   \n",
       "2                           0.0                     0.0   \n",
       "3                           0.0                     0.0   \n",
       "4                           0.0                     0.0   \n",
       "\n",
       "   booking_origin_Vietnam  \n",
       "0                     0.0  \n",
       "1                     0.0  \n",
       "2                     0.0  \n",
       "3                     0.0  \n",
       "4                     0.0  \n",
       "\n",
       "[5 rows x 915 columns]"
      ],
      "text/html": [
       "<div>\n",
       "<style scoped>\n",
       "    .dataframe tbody tr th:only-of-type {\n",
       "        vertical-align: middle;\n",
       "    }\n",
       "\n",
       "    .dataframe tbody tr th {\n",
       "        vertical-align: top;\n",
       "    }\n",
       "\n",
       "    .dataframe thead th {\n",
       "        text-align: right;\n",
       "    }\n",
       "</style>\n",
       "<table border=\"1\" class=\"dataframe\">\n",
       "  <thead>\n",
       "    <tr style=\"text-align: right;\">\n",
       "      <th></th>\n",
       "      <th>sales_channel_Internet</th>\n",
       "      <th>sales_channel_Mobile</th>\n",
       "      <th>trip_type_CircleTrip</th>\n",
       "      <th>trip_type_OneWay</th>\n",
       "      <th>trip_type_RoundTrip</th>\n",
       "      <th>flight_day_Fri</th>\n",
       "      <th>flight_day_Mon</th>\n",
       "      <th>flight_day_Sat</th>\n",
       "      <th>flight_day_Sun</th>\n",
       "      <th>flight_day_Thu</th>\n",
       "      <th>...</th>\n",
       "      <th>booking_origin_Timor-Leste</th>\n",
       "      <th>booking_origin_Tonga</th>\n",
       "      <th>booking_origin_Tunisia</th>\n",
       "      <th>booking_origin_Turkey</th>\n",
       "      <th>booking_origin_Ukraine</th>\n",
       "      <th>booking_origin_United Arab Emirates</th>\n",
       "      <th>booking_origin_United Kingdom</th>\n",
       "      <th>booking_origin_United States</th>\n",
       "      <th>booking_origin_Vanuatu</th>\n",
       "      <th>booking_origin_Vietnam</th>\n",
       "    </tr>\n",
       "  </thead>\n",
       "  <tbody>\n",
       "    <tr>\n",
       "      <th>0</th>\n",
       "      <td>1.0</td>\n",
       "      <td>0.0</td>\n",
       "      <td>0.0</td>\n",
       "      <td>0.0</td>\n",
       "      <td>1.0</td>\n",
       "      <td>0.0</td>\n",
       "      <td>0.0</td>\n",
       "      <td>1.0</td>\n",
       "      <td>0.0</td>\n",
       "      <td>0.0</td>\n",
       "      <td>...</td>\n",
       "      <td>0.0</td>\n",
       "      <td>0.0</td>\n",
       "      <td>0.0</td>\n",
       "      <td>0.0</td>\n",
       "      <td>0.0</td>\n",
       "      <td>0.0</td>\n",
       "      <td>0.0</td>\n",
       "      <td>0.0</td>\n",
       "      <td>0.0</td>\n",
       "      <td>0.0</td>\n",
       "    </tr>\n",
       "    <tr>\n",
       "      <th>1</th>\n",
       "      <td>1.0</td>\n",
       "      <td>0.0</td>\n",
       "      <td>0.0</td>\n",
       "      <td>0.0</td>\n",
       "      <td>1.0</td>\n",
       "      <td>0.0</td>\n",
       "      <td>0.0</td>\n",
       "      <td>1.0</td>\n",
       "      <td>0.0</td>\n",
       "      <td>0.0</td>\n",
       "      <td>...</td>\n",
       "      <td>0.0</td>\n",
       "      <td>0.0</td>\n",
       "      <td>0.0</td>\n",
       "      <td>0.0</td>\n",
       "      <td>0.0</td>\n",
       "      <td>0.0</td>\n",
       "      <td>0.0</td>\n",
       "      <td>0.0</td>\n",
       "      <td>0.0</td>\n",
       "      <td>0.0</td>\n",
       "    </tr>\n",
       "    <tr>\n",
       "      <th>2</th>\n",
       "      <td>1.0</td>\n",
       "      <td>0.0</td>\n",
       "      <td>0.0</td>\n",
       "      <td>0.0</td>\n",
       "      <td>1.0</td>\n",
       "      <td>0.0</td>\n",
       "      <td>0.0</td>\n",
       "      <td>0.0</td>\n",
       "      <td>0.0</td>\n",
       "      <td>0.0</td>\n",
       "      <td>...</td>\n",
       "      <td>0.0</td>\n",
       "      <td>0.0</td>\n",
       "      <td>0.0</td>\n",
       "      <td>0.0</td>\n",
       "      <td>0.0</td>\n",
       "      <td>0.0</td>\n",
       "      <td>0.0</td>\n",
       "      <td>0.0</td>\n",
       "      <td>0.0</td>\n",
       "      <td>0.0</td>\n",
       "    </tr>\n",
       "    <tr>\n",
       "      <th>3</th>\n",
       "      <td>1.0</td>\n",
       "      <td>0.0</td>\n",
       "      <td>0.0</td>\n",
       "      <td>0.0</td>\n",
       "      <td>1.0</td>\n",
       "      <td>0.0</td>\n",
       "      <td>0.0</td>\n",
       "      <td>1.0</td>\n",
       "      <td>0.0</td>\n",
       "      <td>0.0</td>\n",
       "      <td>...</td>\n",
       "      <td>0.0</td>\n",
       "      <td>0.0</td>\n",
       "      <td>0.0</td>\n",
       "      <td>0.0</td>\n",
       "      <td>0.0</td>\n",
       "      <td>0.0</td>\n",
       "      <td>0.0</td>\n",
       "      <td>0.0</td>\n",
       "      <td>0.0</td>\n",
       "      <td>0.0</td>\n",
       "    </tr>\n",
       "    <tr>\n",
       "      <th>4</th>\n",
       "      <td>1.0</td>\n",
       "      <td>0.0</td>\n",
       "      <td>0.0</td>\n",
       "      <td>0.0</td>\n",
       "      <td>1.0</td>\n",
       "      <td>0.0</td>\n",
       "      <td>0.0</td>\n",
       "      <td>0.0</td>\n",
       "      <td>0.0</td>\n",
       "      <td>0.0</td>\n",
       "      <td>...</td>\n",
       "      <td>0.0</td>\n",
       "      <td>0.0</td>\n",
       "      <td>0.0</td>\n",
       "      <td>0.0</td>\n",
       "      <td>0.0</td>\n",
       "      <td>0.0</td>\n",
       "      <td>0.0</td>\n",
       "      <td>0.0</td>\n",
       "      <td>0.0</td>\n",
       "      <td>0.0</td>\n",
       "    </tr>\n",
       "  </tbody>\n",
       "</table>\n",
       "<p>5 rows × 915 columns</p>\n",
       "</div>"
      ]
     },
     "execution_count": 7,
     "metadata": {},
     "output_type": "execute_result"
    }
   ],
   "execution_count": 7
  },
  {
   "metadata": {},
   "cell_type": "markdown",
   "source": "Şimdi bunu bizim verisetimize ekelyeceğiz.",
   "id": "ff4290d774996c16"
  },
  {
   "metadata": {
    "ExecuteTime": {
     "end_time": "2024-05-03T06:40:02.288112Z",
     "start_time": "2024-05-03T06:40:02.282571Z"
    }
   },
   "cell_type": "code",
   "source": "df.drop(columns=['sales_channel','trip_type','flight_day','route','booking_origin'], inplace=True)",
   "id": "ebac98c6718fdd4b",
   "outputs": [],
   "execution_count": 8
  },
  {
   "metadata": {},
   "cell_type": "markdown",
   "source": "",
   "id": "5ebffff68caf9a9d"
  },
  {
   "metadata": {
    "ExecuteTime": {
     "end_time": "2024-05-03T06:40:04.442734Z",
     "start_time": "2024-05-03T06:40:03.831534Z"
    }
   },
   "cell_type": "code",
   "source": "df[ohed.columns]=ohed",
   "id": "f24694af2faf8afd",
   "outputs": [],
   "execution_count": 9
  },
  {
   "metadata": {},
   "cell_type": "markdown",
   "source": "Şu anda ML için uygun hale geldi veri setimiz buradan sonra korelasyon ilişkilerini çıkartıp eğer ilişki önemsenmeyecek derece az olan var ise onaları verisetinden performans için çıkartıcağız.",
   "id": "84e0d8eced57aa5d"
  },
  {
   "metadata": {
    "ExecuteTime": {
     "end_time": "2024-05-03T06:40:05.537586Z",
     "start_time": "2024-05-03T06:40:05.479779Z"
    }
   },
   "cell_type": "code",
   "source": [
    "df_corr=pd.read_csv('data/customer_booking.csv',encoding='latin-1')\n",
    "df_corr = df_corr.drop(columns=['sales_channel','flight_day','route','booking_origin','trip_type'])"
   ],
   "id": "93d62ce71165d8fb",
   "outputs": [],
   "execution_count": 10
  },
  {
   "metadata": {
    "ExecuteTime": {
     "end_time": "2024-05-03T06:40:06.914770Z",
     "start_time": "2024-05-03T06:40:06.902123Z"
    }
   },
   "cell_type": "code",
   "source": "corr_matrix = df_corr.corr()",
   "id": "6a50997a4a02ad5d",
   "outputs": [],
   "execution_count": 11
  },
  {
   "metadata": {
    "ExecuteTime": {
     "end_time": "2024-05-03T06:40:07.868672Z",
     "start_time": "2024-05-03T06:40:07.649603Z"
    }
   },
   "cell_type": "code",
   "source": [
    "sns.heatmap(corr_matrix[[\"booking_complete\"]], cmap='tab10', annot=True)\n",
    "plt.show()"
   ],
   "id": "112bb82547a5f186",
   "outputs": [
    {
     "data": {
      "text/plain": [
       "<Figure size 640x480 with 2 Axes>"
      ],
      "image/png": "[encoded data removed]"
     },
     "metadata": {},
     "output_type": "display_data"
    }
   ],
   "execution_count": 12
  },
  {
   "metadata": {},
   "cell_type": "markdown",
   "source": "Şimdi az korelasyon olanları çıkartalım.",
   "id": "f193edd3d9bc9503"
  },
  {
   "metadata": {
    "ExecuteTime": {
     "end_time": "2024-05-03T06:40:32.505708Z",
     "start_time": "2024-05-03T06:40:32.340955Z"
    }
   },
   "cell_type": "code",
   "source": "df.drop([\"flight_hour\",\"purchase_lead\"], axis=1, inplace=True)",
   "id": "ceb3efb38306b9c5",
   "outputs": [],
   "execution_count": 13
  },
  {
   "metadata": {
    "ExecuteTime": {
     "end_time": "2024-05-03T06:40:33.468477Z",
     "start_time": "2024-05-03T06:40:33.450311Z"
    }
   },
   "cell_type": "code",
   "source": "df.head(3)",
   "id": "92df00574a13d339",
   "outputs": [
    {
     "data": {
      "text/plain": [
       "   num_passengers  length_of_stay  wants_extra_baggage  wants_preferred_seat  \\\n",
       "0               2              19                    1                     0   \n",
       "1               1              20                    0                     0   \n",
       "2               2              22                    1                     1   \n",
       "\n",
       "   wants_in_flight_meals  flight_duration  booking_complete  \\\n",
       "0                      0             5.52                 0   \n",
       "1                      0             5.52                 0   \n",
       "2                      0             5.52                 0   \n",
       "\n",
       "   sales_channel_Internet  sales_channel_Mobile  trip_type_CircleTrip  ...  \\\n",
       "0                     1.0                   0.0                   0.0  ...   \n",
       "1                     1.0                   0.0                   0.0  ...   \n",
       "2                     1.0                   0.0                   0.0  ...   \n",
       "\n",
       "   booking_origin_Timor-Leste  booking_origin_Tonga  booking_origin_Tunisia  \\\n",
       "0                         0.0                   0.0                     0.0   \n",
       "1                         0.0                   0.0                     0.0   \n",
       "2                         0.0                   0.0                     0.0   \n",
       "\n",
       "   booking_origin_Turkey  booking_origin_Ukraine  \\\n",
       "0                    0.0                     0.0   \n",
       "1                    0.0                     0.0   \n",
       "2                    0.0                     0.0   \n",
       "\n",
       "   booking_origin_United Arab Emirates  booking_origin_United Kingdom  \\\n",
       "0                                  0.0                            0.0   \n",
       "1                                  0.0                            0.0   \n",
       "2                                  0.0                            0.0   \n",
       "\n",
       "   booking_origin_United States  booking_origin_Vanuatu  \\\n",
       "0                           0.0                     0.0   \n",
       "1                           0.0                     0.0   \n",
       "2                           0.0                     0.0   \n",
       "\n",
       "   booking_origin_Vietnam  \n",
       "0                     0.0  \n",
       "1                     0.0  \n",
       "2                     0.0  \n",
       "\n",
       "[3 rows x 922 columns]"
      ],
      "text/html": [
       "<div>\n",
       "<style scoped>\n",
       "    .dataframe tbody tr th:only-of-type {\n",
       "        vertical-align: middle;\n",
       "    }\n",
       "\n",
       "    .dataframe tbody tr th {\n",
       "        vertical-align: top;\n",
       "    }\n",
       "\n",
       "    .dataframe thead th {\n",
       "        text-align: right;\n",
       "    }\n",
       "</style>\n",
       "<table border=\"1\" class=\"dataframe\">\n",
       "  <thead>\n",
       "    <tr style=\"text-align: right;\">\n",
       "      <th></th>\n",
       "      <th>num_passengers</th>\n",
       "      <th>length_of_stay</th>\n",
       "      <th>wants_extra_baggage</th>\n",
       "      <th>wants_preferred_seat</th>\n",
       "      <th>wants_in_flight_meals</th>\n",
       "      <th>flight_duration</th>\n",
       "      <th>booking_complete</th>\n",
       "      <th>sales_channel_Internet</th>\n",
       "      <th>sales_channel_Mobile</th>\n",
       "      <th>trip_type_CircleTrip</th>\n",
       "      <th>...</th>\n",
       "      <th>booking_origin_Timor-Leste</th>\n",
       "      <th>booking_origin_Tonga</th>\n",
       "      <th>booking_origin_Tunisia</th>\n",
       "      <th>booking_origin_Turkey</th>\n",
       "      <th>booking_origin_Ukraine</th>\n",
       "      <th>booking_origin_United Arab Emirates</th>\n",
       "      <th>booking_origin_United Kingdom</th>\n",
       "      <th>booking_origin_United States</th>\n",
       "      <th>booking_origin_Vanuatu</th>\n",
       "      <th>booking_origin_Vietnam</th>\n",
       "    </tr>\n",
       "  </thead>\n",
       "  <tbody>\n",
       "    <tr>\n",
       "      <th>0</th>\n",
       "      <td>2</td>\n",
       "      <td>19</td>\n",
       "      <td>1</td>\n",
       "      <td>0</td>\n",
       "      <td>0</td>\n",
       "      <td>5.52</td>\n",
       "      <td>0</td>\n",
       "      <td>1.0</td>\n",
       "      <td>0.0</td>\n",
       "      <td>0.0</td>\n",
       "      <td>...</td>\n",
       "      <td>0.0</td>\n",
       "      <td>0.0</td>\n",
       "      <td>0.0</td>\n",
       "      <td>0.0</td>\n",
       "      <td>0.0</td>\n",
       "      <td>0.0</td>\n",
       "      <td>0.0</td>\n",
       "      <td>0.0</td>\n",
       "      <td>0.0</td>\n",
       "      <td>0.0</td>\n",
       "    </tr>\n",
       "    <tr>\n",
       "      <th>1</th>\n",
       "      <td>1</td>\n",
       "      <td>20</td>\n",
       "      <td>0</td>\n",
       "      <td>0</td>\n",
       "      <td>0</td>\n",
       "      <td>5.52</td>\n",
       "      <td>0</td>\n",
       "      <td>1.0</td>\n",
       "      <td>0.0</td>\n",
       "      <td>0.0</td>\n",
       "      <td>...</td>\n",
       "      <td>0.0</td>\n",
       "      <td>0.0</td>\n",
       "      <td>0.0</td>\n",
       "      <td>0.0</td>\n",
       "      <td>0.0</td>\n",
       "      <td>0.0</td>\n",
       "      <td>0.0</td>\n",
       "      <td>0.0</td>\n",
       "      <td>0.0</td>\n",
       "      <td>0.0</td>\n",
       "    </tr>\n",
       "    <tr>\n",
       "      <th>2</th>\n",
       "      <td>2</td>\n",
       "      <td>22</td>\n",
       "      <td>1</td>\n",
       "      <td>1</td>\n",
       "      <td>0</td>\n",
       "      <td>5.52</td>\n",
       "      <td>0</td>\n",
       "      <td>1.0</td>\n",
       "      <td>0.0</td>\n",
       "      <td>0.0</td>\n",
       "      <td>...</td>\n",
       "      <td>0.0</td>\n",
       "      <td>0.0</td>\n",
       "      <td>0.0</td>\n",
       "      <td>0.0</td>\n",
       "      <td>0.0</td>\n",
       "      <td>0.0</td>\n",
       "      <td>0.0</td>\n",
       "      <td>0.0</td>\n",
       "      <td>0.0</td>\n",
       "      <td>0.0</td>\n",
       "    </tr>\n",
       "  </tbody>\n",
       "</table>\n",
       "<p>3 rows × 922 columns</p>\n",
       "</div>"
      ]
     },
     "execution_count": 14,
     "metadata": {},
     "output_type": "execute_result"
    }
   ],
   "execution_count": 14
  },
  {
   "metadata": {},
   "cell_type": "markdown",
   "source": "Artık test ve train oluşturabiliriz.",
   "id": "c3a7ea66a70aecd2"
  },
  {
   "metadata": {},
   "cell_type": "markdown",
   "source": "50000 veri olduğu için %80 yeterli diye düşünüyorum.",
   "id": "73daaf694dedeac7"
  },
  {
   "metadata": {
    "ExecuteTime": {
     "end_time": "2024-05-03T06:49:37.767952Z",
     "start_time": "2024-05-03T06:49:37.105706Z"
    }
   },
   "cell_type": "code",
   "source": [
    "y=df['booking_complete']\n",
    "x=df.drop('booking_complete', axis=1)\n",
    "x_train, x_test, y_train, y_test = train_test_split(x, y, train_size=0.80, random_state=43)"
   ],
   "id": "a0a18493e6aa9d1d",
   "outputs": [],
   "execution_count": 30
  },
  {
   "metadata": {},
   "cell_type": "markdown",
   "source": "Artık model oluşturabiliriz öncelikle RandomForestClassifier kullanacağım.",
   "id": "73b1daaeada026ec"
  },
  {
   "metadata": {
    "ExecuteTime": {
     "end_time": "2024-05-03T06:41:02.692160Z",
     "start_time": "2024-05-03T06:40:39.374378Z"
    }
   },
   "cell_type": "code",
   "source": [
    "rf=RandomForestClassifier()\n",
    "model = rf.fit(x_train, y_train)\n",
    "model.score(x_test, y_test)"
   ],
   "id": "189614975f14ed98",
   "outputs": [
    {
     "data": {
      "text/plain": [
       "0.8347"
      ]
     },
     "execution_count": 16,
     "metadata": {},
     "output_type": "execute_result"
    }
   ],
   "execution_count": 16
  },
  {
   "metadata": {
    "ExecuteTime": {
     "end_time": "2024-05-02T19:59:05.314725Z",
     "start_time": "2024-05-02T19:58:15.090756Z"
    }
   },
   "cell_type": "code",
   "source": [
    "rf=RandomForestClassifier(n_estimators=200)\n",
    "model = rf.fit(x_train, y_train)\n",
    "model.score(x_test, y_test)"
   ],
   "id": "9b0ce21fc4bbc6cf",
   "outputs": [
    {
     "data": {
      "text/plain": [
       "0.8355"
      ]
     },
     "execution_count": 17,
     "metadata": {},
     "output_type": "execute_result"
    }
   ],
   "execution_count": 17
  },
  {
   "metadata": {
    "ExecuteTime": {
     "end_time": "2024-05-03T06:42:26.748380Z",
     "start_time": "2024-05-03T06:41:08.146547Z"
    }
   },
   "cell_type": "code",
   "source": [
    "cv = cross_val_score(model, x, y, cv=4)\n",
    "cv"
   ],
   "id": "37a84f229d8ab1bf",
   "outputs": [
    {
     "data": {
      "text/plain": [
       "array([0.84688, 0.75192, 0.27296, 0.72096])"
      ]
     },
     "execution_count": 17,
     "metadata": {},
     "output_type": "execute_result"
    }
   ],
   "execution_count": 17
  },
  {
   "metadata": {},
   "cell_type": "markdown",
   "source": "Şimdi karmaşıklık matrisini oluşturup değerlere bakalım",
   "id": "9580fc1560c18e87"
  },
  {
   "metadata": {
    "ExecuteTime": {
     "end_time": "2024-05-03T06:42:43.464935Z",
     "start_time": "2024-05-03T06:42:42.882382Z"
    }
   },
   "cell_type": "code",
   "source": [
    "y_pred = model.predict(x_test)\n",
    "cm = confusion_matrix(y_test, y_pred)\n",
    "accuracy = accuracy_score(y_test, y_pred)\n",
    "print(accuracy)\n",
    "cm"
   ],
   "id": "d544d12953050c30",
   "outputs": [
    {
     "name": "stdout",
     "output_type": "stream",
     "text": [
      "0.8347\n"
     ]
    },
    {
     "data": {
      "text/plain": [
       "array([[8088,  405],\n",
       "       [1248,  259]], dtype=int64)"
      ]
     },
     "execution_count": 18,
     "metadata": {},
     "output_type": "execute_result"
    }
   ],
   "execution_count": 18
  },
  {
   "metadata": {},
   "cell_type": "markdown",
   "source": "Şimdi ise farklı bir model ile sonuclara bakacağım ",
   "id": "49fefa99990bf419"
  },
  {
   "metadata": {
    "ExecuteTime": {
     "end_time": "2024-05-03T06:42:48.733618Z",
     "start_time": "2024-05-03T06:42:46.732245Z"
    }
   },
   "cell_type": "code",
   "source": [
    "xgbp = xgb.XGBClassifier()\n",
    "xgb_model = xgbp.fit(x_train, y_train)\n",
    "xgb_model.score(x_test, y_test)"
   ],
   "id": "2b0621575c90f397",
   "outputs": [
    {
     "data": {
      "text/plain": [
       "0.85"
      ]
     },
     "execution_count": 19,
     "metadata": {},
     "output_type": "execute_result"
    }
   ],
   "execution_count": 19
  },
  {
   "metadata": {
    "ExecuteTime": {
     "end_time": "2024-05-03T06:42:58.907306Z",
     "start_time": "2024-05-03T06:42:50.964003Z"
    }
   },
   "cell_type": "code",
   "source": [
    "cv_xgb = cross_val_score(xgb_model, x_train, y_train, cv=4)\n",
    "cv_xgb"
   ],
   "id": "782d8ff9052a7fac",
   "outputs": [
    {
     "data": {
      "text/plain": [
       "array([0.8469, 0.8509, 0.8513, 0.85  ])"
      ]
     },
     "execution_count": 20,
     "metadata": {},
     "output_type": "execute_result"
    }
   ],
   "execution_count": 20
  },
  {
   "metadata": {
    "ExecuteTime": {
     "end_time": "2024-05-03T06:42:59.031940Z",
     "start_time": "2024-05-03T06:42:58.908303Z"
    }
   },
   "cell_type": "code",
   "source": [
    "y_pred_xgb = xgb_model.predict(x_test)\n",
    "cm_xgb = confusion_matrix(y_test, y_pred_xgb)\n",
    "accuracy = accuracy_score(y_test, y_pred_xgb)\n",
    "print(accuracy)\n",
    "cm_xgb"
   ],
   "id": "270cf99701977a3f",
   "outputs": [
    {
     "name": "stdout",
     "output_type": "stream",
     "text": [
      "0.85\n"
     ]
    },
    {
     "data": {
      "text/plain": [
       "array([[8349,  144],\n",
       "       [1356,  151]], dtype=int64)"
      ]
     },
     "execution_count": 21,
     "metadata": {},
     "output_type": "execute_result"
    }
   ],
   "execution_count": 21
  },
  {
   "metadata": {
    "ExecuteTime": {
     "end_time": "2024-05-02T18:47:09.810072Z",
     "start_time": "2024-05-02T18:47:09.806495Z"
    }
   },
   "cell_type": "code",
   "source": [
    "xgb_params = {\n",
    "    'max_depth': [3, 4, 5, 6],  \n",
    "    'learning_rate': [0.01, 0.05, 0.1, 0.2],\n",
    "    'n_estimators': [100, 200, 300, 500],\n",
    "    'min_child_weight': [1, 5, 10],\n",
    "    'gamma': [0, 0.5, 1, 1.5, 2, 5],\n",
    "    'subsample': [0.6, 0.8, 1.0],\n",
    "    'colsample_bytree': [0.6, 0.8, 1.0],\n",
    "    'reg_alpha': [0, 0.5, 1],\n",
    "    'reg_lambda': [1, 1.5, 2, 5]\n",
    "}\n"
   ],
   "id": "359f1742444c9737",
   "outputs": [],
   "execution_count": 103
  },
  {
   "metadata": {
    "ExecuteTime": {
     "end_time": "2024-05-02T19:10:37.104289Z",
     "start_time": "2024-05-02T18:48:06.038323Z"
    }
   },
   "cell_type": "code",
   "source": [
    "xgb_model = xgb.XGBClassifier()\n",
    "\n",
    "xgb_randomcv_model = RandomizedSearchCV(estimator=xgb_model, \n",
    "                                       param_distributions=xgb_params, \n",
    "                                       n_iter=100, \n",
    "                                       cv=5, \n",
    "                                       scoring='accuracy', \n",
    "                                       n_jobs=-1, \n",
    "                                       verbose=2).fit(x_train, y_train)\n",
    "\n",
    "\n",
    "print('En iyi parametreler:', xgb_randomcv_model.best_params_)\n",
    "print('En iyi accuracy score:', xgb_randomcv_model.best_score_)\n"
   ],
   "id": "c9b0d3abc4ab7a64",
   "outputs": [
    {
     "name": "stdout",
     "output_type": "stream",
     "text": [
      "Fitting 5 folds for each of 100 candidates, totalling 500 fits\n",
      "En iyi parametreler: {'subsample': 1.0, 'reg_lambda': 5, 'reg_alpha': 0.5, 'n_estimators': 100, 'min_child_weight': 10, 'max_depth': 6, 'learning_rate': 0.1, 'gamma': 1, 'colsample_bytree': 0.6}\n",
      "En iyi accuracy score: 0.851675\n"
     ]
    }
   ],
   "execution_count": 104
  },
  {
   "metadata": {
    "ExecuteTime": {
     "end_time": "2024-05-03T06:43:08.586895Z",
     "start_time": "2024-05-03T06:43:07.796542Z"
    }
   },
   "cell_type": "code",
   "source": [
    "rc = RidgeClassifier()\n",
    "rc_model = rc.fit(x_train, y_train)\n",
    "rc_model.score(x_test,y_test)"
   ],
   "id": "8990e0cfda292d",
   "outputs": [
    {
     "data": {
      "text/plain": [
       "0.8473"
      ]
     },
     "execution_count": 22,
     "metadata": {},
     "output_type": "execute_result"
    }
   ],
   "execution_count": 22
  },
  {
   "metadata": {
    "ExecuteTime": {
     "end_time": "2024-05-03T06:43:09.484263Z",
     "start_time": "2024-05-03T06:43:09.428028Z"
    }
   },
   "cell_type": "code",
   "source": [
    "y_pred_rc = rc_model.predict(x_test)\n",
    "cm_rc = confusion_matrix(y_test, y_pred_rc)\n",
    "accuracy = accuracy_score(y_test, y_pred_rc)\n",
    "print(accuracy)\n",
    "cm_rc"
   ],
   "id": "35400ae71236baec",
   "outputs": [
    {
     "name": "stdout",
     "output_type": "stream",
     "text": [
      "0.8473\n"
     ]
    },
    {
     "data": {
      "text/plain": [
       "array([[8415,   78],\n",
       "       [1449,   58]], dtype=int64)"
      ]
     },
     "execution_count": 23,
     "metadata": {},
     "output_type": "execute_result"
    }
   ],
   "execution_count": 23
  },
  {
   "metadata": {
    "ExecuteTime": {
     "end_time": "2024-05-03T06:44:12.439614Z",
     "start_time": "2024-05-03T06:43:42.990915Z"
    }
   },
   "cell_type": "code",
   "source": [
    "gb = GradientBoostingClassifier()\n",
    "gb_model = gb.fit(x_train, y_train)\n",
    "gb_model.score(x_test,y_test)"
   ],
   "id": "2190ce1ae51bc1a4",
   "outputs": [
    {
     "data": {
      "text/plain": [
       "0.8493"
      ]
     },
     "execution_count": 24,
     "metadata": {},
     "output_type": "execute_result"
    }
   ],
   "execution_count": 24
  },
  {
   "metadata": {
    "ExecuteTime": {
     "end_time": "2024-05-03T06:46:14.347017Z",
     "start_time": "2024-05-03T06:44:45.152140Z"
    }
   },
   "cell_type": "code",
   "source": [
    "cv_gb = cross_val_score(gb_model, x_train, y_train, cv=4)\n",
    "cv_gb"
   ],
   "id": "a62b5b5ed06336a2",
   "outputs": [
    {
     "data": {
      "text/plain": [
       "array([0.8489, 0.8516, 0.8513, 0.8508])"
      ]
     },
     "execution_count": 25,
     "metadata": {},
     "output_type": "execute_result"
    }
   ],
   "execution_count": 25
  },
  {
   "metadata": {
    "ExecuteTime": {
     "end_time": "2024-05-03T06:48:17.959069Z",
     "start_time": "2024-05-03T06:48:15.585004Z"
    }
   },
   "cell_type": "code",
   "source": [
    "lg = LogisticRegression()\n",
    "lg_model = lg.fit(x_train,y_train)\n",
    "lg_model.score(x_test,y_test)"
   ],
   "id": "f2cca7fd0e69c9e0",
   "outputs": [
    {
     "data": {
      "text/plain": [
       "0.8498"
      ]
     },
     "execution_count": 27,
     "metadata": {},
     "output_type": "execute_result"
    }
   ],
   "execution_count": 27
  },
  {
   "metadata": {
    "ExecuteTime": {
     "end_time": "2024-05-03T08:00:33.163656Z",
     "start_time": "2024-05-03T07:06:28.611819Z"
    }
   },
   "cell_type": "code",
   "source": [
    "gb_params = {\n",
    "    'learning_rate': [0.01, 0.05, 0.1, 0.2],\n",
    "    'n_estimators': [100, 200, 300, 500],\n",
    "    'max_depth': [3, 4, 5, 6],\n",
    "    'min_samples_split': [2, 5, 10],\n",
    "    'min_samples_leaf': [1, 2, 4],\n",
    "    'subsample': [0.6, 0.8, 1.0],\n",
    "    'max_features': ['auto', 'sqrt', 'log2', None]\n",
    "}\n",
    "gb_model = GradientBoostingClassifier()\n",
    "\n",
    "# RandomizedSearchCV ile en iyi parametreleri bulun\n",
    "gb_randomcv_model = RandomizedSearchCV(estimator=gb_model, \n",
    "                                       param_distributions=gb_params, \n",
    "                                       n_iter=100, \n",
    "                                       cv=5, \n",
    "                                       scoring='accuracy', \n",
    "                                       n_jobs=-1, \n",
    "                                       verbose=2)\n",
    "\n",
    "# Modeli eğitin\n",
    "gb_randomcv_model.fit(x_train, y_train)\n",
    "\n",
    "# En iyi parametreler ve doğruluk skorunu yazdırın\n",
    "print('En iyi parametreler:', gb_randomcv_model.best_params_)\n",
    "print('En iyi accuracy score:', gb_randomcv_model.best_score_)"
   ],
   "id": "c57b73080aef8c47",
   "outputs": [
    {
     "name": "stdout",
     "output_type": "stream",
     "text": [
      "Fitting 5 folds for each of 100 candidates, totalling 500 fits\n",
      "En iyi parametreler: {'subsample': 1.0, 'n_estimators': 300, 'min_samples_split': 10, 'min_samples_leaf': 4, 'max_features': 'sqrt', 'max_depth': 5, 'learning_rate': 0.05}\n",
      "En iyi accuracy score: 0.8516000000000001\n"
     ]
    }
   ],
   "execution_count": 34
  },
  {
   "metadata": {},
   "cell_type": "code",
   "outputs": [],
   "execution_count": null,
   "source": "",
   "id": "65cfa47dc7652610"
  }
 ],
 "metadata": {
  "kernelspec": {
   "display_name": "Python 3",
   "language": "python",
   "name": "python3"
  },
  "language_info": {
   "codemirror_mode": {
    "name": "ipython",
    "version": 2
   },
   "file_extension": ".py",
   "mimetype": "text/x-python",
   "name": "python",
   "nbconvert_exporter": "python",
   "pygments_lexer": "ipython2",
   "version": "2.7.6"
  }
 },
 "nbformat": 4,
 "nbformat_minor": 5
}
